{
  "nbformat": 4,
  "nbformat_minor": 0,
  "metadata": {
    "colab": {
      "name": "12_스마트카 딥러닝 실습.ipynb",
      "provenance": [],
      "collapsed_sections": [],
      "mount_file_id": "1ITn8Z3SidWlUF4EZKIyYAAv_BwaftjhE",
      "authorship_tag": "ABX9TyNlj+Fymd2N9nNVHX62XoiG",
      "include_colab_link": true
    },
    "kernelspec": {
      "name": "python3",
      "display_name": "Python 3"
    },
    "language_info": {
      "name": "python"
    }
  },
  "cells": [
    {
      "cell_type": "markdown",
      "metadata": {
        "id": "view-in-github",
        "colab_type": "text"
      },
      "source": [
        "<a href=\"https://colab.research.google.com/github/lollolzz/Colab/blob/main/Ch3.%20%EB%94%A5%EB%9F%AC%EB%8B%9D/12_%EC%8A%A4%EB%A7%88%ED%8A%B8%EC%B9%B4_%EB%94%A5%EB%9F%AC%EB%8B%9D_%EC%8B%A4%EC%8A%B5.ipynb\" target=\"_parent\"><img src=\"https://colab.research.google.com/assets/colab-badge.svg\" alt=\"Open In Colab\"/></a>"
      ]
    },
    {
      "cell_type": "code",
      "metadata": {
        "id": "NKlVCrmAvh_6"
      },
      "source": [
        "\"\"\"\n",
        "날짜 : 2021/11/04\n",
        "이름 : 권능한\n",
        "내용 : 스마트카 위험 징후 판단하기\n",
        "\"\"\"\n",
        "\n",
        "import tensorflow as tf\n",
        "import pandas as pd\n",
        "import matplotlib.pyplot as plt\n",
        "\n",
        "from time import time\n",
        "from tensorflow.python.keras.callbacks import TensorBoard\n",
        "from tensorflow import keras\n",
        "from tensorflow.keras.models import Sequential\n",
        "from tensorflow.keras.layers import Dense, Dropout\n",
        "from sklearn.preprocessing import StandardScaler\n",
        "from sklearn.model_selection import train_test_split\n",
        "from sklearn.metrics import roc_curve, roc_auc_score, auc\n",
        "from tensorflow.keras.utils import to_categorical\n",
        "from keras.models import load_model"
      ],
      "execution_count": null,
      "outputs": []
    },
    {
      "cell_type": "code",
      "metadata": {
        "colab": {
          "base_uri": "https://localhost:8080/",
          "height": 419
        },
        "id": "nimGZusgw5a5",
        "outputId": "f231c83d-a508-49f2-d1d8-3acb6b0898c3"
      },
      "source": [
        "# 데이터 불러오기\n",
        "df = pd.read_csv('/content/drive/MyDrive/Colab Notebooks/file/CarDrivingIncidentInfo.csv')\n",
        "df"
      ],
      "execution_count": null,
      "outputs": [
        {
          "output_type": "execute_result",
          "data": {
            "text/html": [
              "<div>\n",
              "<style scoped>\n",
              "    .dataframe tbody tr th:only-of-type {\n",
              "        vertical-align: middle;\n",
              "    }\n",
              "\n",
              "    .dataframe tbody tr th {\n",
              "        vertical-align: top;\n",
              "    }\n",
              "\n",
              "    .dataframe thead th {\n",
              "        text-align: right;\n",
              "    }\n",
              "</style>\n",
              "<table border=\"1\" class=\"dataframe\">\n",
              "  <thead>\n",
              "    <tr style=\"text-align: right;\">\n",
              "      <th></th>\n",
              "      <th>wea</th>\n",
              "      <th>temp</th>\n",
              "      <th>hum</th>\n",
              "      <th>arrCar</th>\n",
              "      <th>timeSlot</th>\n",
              "      <th>acciArea</th>\n",
              "      <th>drvCond</th>\n",
              "      <th>innCond</th>\n",
              "      <th>carSpd</th>\n",
              "      <th>steeAng</th>\n",
              "      <th>acciPos</th>\n",
              "    </tr>\n",
              "  </thead>\n",
              "  <tbody>\n",
              "    <tr>\n",
              "      <th>0</th>\n",
              "      <td>0</td>\n",
              "      <td>1</td>\n",
              "      <td>1</td>\n",
              "      <td>1</td>\n",
              "      <td>1</td>\n",
              "      <td>2</td>\n",
              "      <td>1</td>\n",
              "      <td>2</td>\n",
              "      <td>2</td>\n",
              "      <td>1</td>\n",
              "      <td>2</td>\n",
              "    </tr>\n",
              "    <tr>\n",
              "      <th>1</th>\n",
              "      <td>1</td>\n",
              "      <td>0</td>\n",
              "      <td>0</td>\n",
              "      <td>0</td>\n",
              "      <td>0</td>\n",
              "      <td>0</td>\n",
              "      <td>2</td>\n",
              "      <td>0</td>\n",
              "      <td>0</td>\n",
              "      <td>0</td>\n",
              "      <td>0</td>\n",
              "    </tr>\n",
              "    <tr>\n",
              "      <th>2</th>\n",
              "      <td>1</td>\n",
              "      <td>0</td>\n",
              "      <td>0</td>\n",
              "      <td>1</td>\n",
              "      <td>0</td>\n",
              "      <td>1</td>\n",
              "      <td>2</td>\n",
              "      <td>0</td>\n",
              "      <td>1</td>\n",
              "      <td>1</td>\n",
              "      <td>0</td>\n",
              "    </tr>\n",
              "    <tr>\n",
              "      <th>3</th>\n",
              "      <td>0</td>\n",
              "      <td>0</td>\n",
              "      <td>0</td>\n",
              "      <td>0</td>\n",
              "      <td>0</td>\n",
              "      <td>1</td>\n",
              "      <td>2</td>\n",
              "      <td>1</td>\n",
              "      <td>1</td>\n",
              "      <td>0</td>\n",
              "      <td>0</td>\n",
              "    </tr>\n",
              "    <tr>\n",
              "      <th>4</th>\n",
              "      <td>0</td>\n",
              "      <td>0</td>\n",
              "      <td>0</td>\n",
              "      <td>0</td>\n",
              "      <td>0</td>\n",
              "      <td>0</td>\n",
              "      <td>2</td>\n",
              "      <td>2</td>\n",
              "      <td>2</td>\n",
              "      <td>0</td>\n",
              "      <td>0</td>\n",
              "    </tr>\n",
              "    <tr>\n",
              "      <th>...</th>\n",
              "      <td>...</td>\n",
              "      <td>...</td>\n",
              "      <td>...</td>\n",
              "      <td>...</td>\n",
              "      <td>...</td>\n",
              "      <td>...</td>\n",
              "      <td>...</td>\n",
              "      <td>...</td>\n",
              "      <td>...</td>\n",
              "      <td>...</td>\n",
              "      <td>...</td>\n",
              "    </tr>\n",
              "    <tr>\n",
              "      <th>199995</th>\n",
              "      <td>2</td>\n",
              "      <td>0</td>\n",
              "      <td>0</td>\n",
              "      <td>1</td>\n",
              "      <td>1</td>\n",
              "      <td>2</td>\n",
              "      <td>1</td>\n",
              "      <td>1</td>\n",
              "      <td>0</td>\n",
              "      <td>0</td>\n",
              "      <td>1</td>\n",
              "    </tr>\n",
              "    <tr>\n",
              "      <th>199996</th>\n",
              "      <td>0</td>\n",
              "      <td>1</td>\n",
              "      <td>1</td>\n",
              "      <td>1</td>\n",
              "      <td>0</td>\n",
              "      <td>1</td>\n",
              "      <td>0</td>\n",
              "      <td>0</td>\n",
              "      <td>2</td>\n",
              "      <td>1</td>\n",
              "      <td>0</td>\n",
              "    </tr>\n",
              "    <tr>\n",
              "      <th>199997</th>\n",
              "      <td>1</td>\n",
              "      <td>0</td>\n",
              "      <td>2</td>\n",
              "      <td>0</td>\n",
              "      <td>1</td>\n",
              "      <td>2</td>\n",
              "      <td>2</td>\n",
              "      <td>1</td>\n",
              "      <td>2</td>\n",
              "      <td>0</td>\n",
              "      <td>2</td>\n",
              "    </tr>\n",
              "    <tr>\n",
              "      <th>199998</th>\n",
              "      <td>0</td>\n",
              "      <td>1</td>\n",
              "      <td>0</td>\n",
              "      <td>2</td>\n",
              "      <td>1</td>\n",
              "      <td>2</td>\n",
              "      <td>0</td>\n",
              "      <td>0</td>\n",
              "      <td>0</td>\n",
              "      <td>0</td>\n",
              "      <td>0</td>\n",
              "    </tr>\n",
              "    <tr>\n",
              "      <th>199999</th>\n",
              "      <td>1</td>\n",
              "      <td>0</td>\n",
              "      <td>0</td>\n",
              "      <td>1</td>\n",
              "      <td>1</td>\n",
              "      <td>1</td>\n",
              "      <td>2</td>\n",
              "      <td>2</td>\n",
              "      <td>0</td>\n",
              "      <td>0</td>\n",
              "      <td>1</td>\n",
              "    </tr>\n",
              "  </tbody>\n",
              "</table>\n",
              "<p>200000 rows × 11 columns</p>\n",
              "</div>"
            ],
            "text/plain": [
              "        wea  temp  hum  arrCar  ...  innCond  carSpd  steeAng  acciPos\n",
              "0         0     1    1       1  ...        2       2        1        2\n",
              "1         1     0    0       0  ...        0       0        0        0\n",
              "2         1     0    0       1  ...        0       1        1        0\n",
              "3         0     0    0       0  ...        1       1        0        0\n",
              "4         0     0    0       0  ...        2       2        0        0\n",
              "...     ...   ...  ...     ...  ...      ...     ...      ...      ...\n",
              "199995    2     0    0       1  ...        1       0        0        1\n",
              "199996    0     1    1       1  ...        0       2        1        0\n",
              "199997    1     0    2       0  ...        1       2        0        2\n",
              "199998    0     1    0       2  ...        0       0        0        0\n",
              "199999    1     0    0       1  ...        2       0        0        1\n",
              "\n",
              "[200000 rows x 11 columns]"
            ]
          },
          "metadata": {},
          "execution_count": 10
        }
      ]
    },
    {
      "cell_type": "code",
      "metadata": {
        "id": "jtH0xY16xM5q"
      },
      "source": [
        "# 학습 데이터, 라벨\n",
        "df_train = df.iloc[:, :-1].values\n",
        "df_label = df.iloc[:, -1].values\n",
        "\n",
        "X_train, X_test, Y_train, Y_test = train_test_split(df_train, df_label, test_size=0.2, random_state=1)\n",
        "\n",
        "Y_train = to_categorical(Y_train)\n",
        "Y_test = to_categorical(Y_test)\n",
        "\n",
        "sc = StandardScaler()\n",
        "X_train = sc.fit_transform(X_train)\n",
        "X_test = sc.fit_transform(X_test)"
      ],
      "execution_count": null,
      "outputs": []
    },
    {
      "cell_type": "code",
      "metadata": {
        "colab": {
          "base_uri": "https://localhost:8080/"
        },
        "id": "hSQjxdVWxWsn",
        "outputId": "d5ddfd48-31e3-455d-b0ed-7195af468deb"
      },
      "source": [
        "Y_train"
      ],
      "execution_count": null,
      "outputs": [
        {
          "output_type": "execute_result",
          "data": {
            "text/plain": [
              "array([[0., 1., 0.],\n",
              "       [0., 1., 0.],\n",
              "       [1., 0., 0.],\n",
              "       ...,\n",
              "       [1., 0., 0.],\n",
              "       [1., 0., 0.],\n",
              "       [0., 1., 0.]], dtype=float32)"
            ]
          },
          "metadata": {},
          "execution_count": 13
        }
      ]
    },
    {
      "cell_type": "code",
      "metadata": {
        "colab": {
          "base_uri": "https://localhost:8080/"
        },
        "id": "yqqwbQR6yl7o",
        "outputId": "3a349bfe-59e4-4299-ab61-b86916cf3b0d"
      },
      "source": [
        "# 모델생성\n",
        "model = Sequential([\n",
        "  Dense(10, input_dim=10, activation='relu'),\n",
        "  Dense(20, activation='relu'),\n",
        "  Dropout(0.25),\n",
        "  Dense(10, activation='relu'),\n",
        "  Dense(3, activation='softmax')\n",
        "])\n",
        "\n",
        "model.compile(optimizer='adam', loss='categorical_crossentropy', metrics=['acc'])\n",
        "model.summary()"
      ],
      "execution_count": null,
      "outputs": [
        {
          "output_type": "stream",
          "name": "stdout",
          "text": [
            "Model: \"sequential\"\n",
            "_________________________________________________________________\n",
            "Layer (type)                 Output Shape              Param #   \n",
            "=================================================================\n",
            "dense (Dense)                (None, 10)                110       \n",
            "_________________________________________________________________\n",
            "dense_1 (Dense)              (None, 20)                220       \n",
            "_________________________________________________________________\n",
            "dropout (Dropout)            (None, 20)                0         \n",
            "_________________________________________________________________\n",
            "dense_2 (Dense)              (None, 10)                210       \n",
            "_________________________________________________________________\n",
            "dense_3 (Dense)              (None, 3)                 33        \n",
            "=================================================================\n",
            "Total params: 573\n",
            "Trainable params: 573\n",
            "Non-trainable params: 0\n",
            "_________________________________________________________________\n"
          ]
        }
      ]
    },
    {
      "cell_type": "code",
      "metadata": {
        "colab": {
          "base_uri": "https://localhost:8080/"
        },
        "id": "kosQ_Arcz0te",
        "outputId": "03f4d14f-8b6d-4277-978c-4d01170b3456"
      },
      "source": [
        "# 모델 학습\n",
        "model.fit(X_train, Y_train, batch_size=2000,epochs=50,validation_data=(X_test,Y_test))"
      ],
      "execution_count": null,
      "outputs": [
        {
          "output_type": "stream",
          "name": "stdout",
          "text": [
            "Epoch 1/50\n",
            "80/80 [==============================] - 1s 6ms/step - loss: 1.0569 - acc: 0.4449 - val_loss: 0.9340 - val_acc: 0.6341\n",
            "Epoch 2/50\n",
            "80/80 [==============================] - 0s 5ms/step - loss: 0.7684 - acc: 0.6884 - val_loss: 0.5114 - val_acc: 0.8081\n",
            "Epoch 3/50\n",
            "80/80 [==============================] - 0s 5ms/step - loss: 0.4205 - acc: 0.8405 - val_loss: 0.2441 - val_acc: 0.9263\n",
            "Epoch 4/50\n",
            "80/80 [==============================] - 0s 5ms/step - loss: 0.2377 - acc: 0.9162 - val_loss: 0.1470 - val_acc: 0.9583\n",
            "Epoch 5/50\n",
            "80/80 [==============================] - 0s 5ms/step - loss: 0.1666 - acc: 0.9423 - val_loss: 0.1117 - val_acc: 0.9653\n",
            "Epoch 6/50\n",
            "80/80 [==============================] - 0s 5ms/step - loss: 0.1326 - acc: 0.9556 - val_loss: 0.0914 - val_acc: 0.9729\n",
            "Epoch 7/50\n",
            "80/80 [==============================] - 0s 5ms/step - loss: 0.1109 - acc: 0.9638 - val_loss: 0.0767 - val_acc: 0.9772\n",
            "Epoch 8/50\n",
            "80/80 [==============================] - 0s 5ms/step - loss: 0.0945 - acc: 0.9706 - val_loss: 0.0653 - val_acc: 0.9822\n",
            "Epoch 9/50\n",
            "80/80 [==============================] - 0s 5ms/step - loss: 0.0815 - acc: 0.9754 - val_loss: 0.0561 - val_acc: 0.9850\n",
            "Epoch 10/50\n",
            "80/80 [==============================] - 0s 4ms/step - loss: 0.0712 - acc: 0.9796 - val_loss: 0.0479 - val_acc: 0.9873\n",
            "Epoch 11/50\n",
            "80/80 [==============================] - 0s 5ms/step - loss: 0.0629 - acc: 0.9826 - val_loss: 0.0418 - val_acc: 0.9891\n",
            "Epoch 12/50\n",
            "80/80 [==============================] - 0s 5ms/step - loss: 0.0561 - acc: 0.9848 - val_loss: 0.0371 - val_acc: 0.9898\n",
            "Epoch 13/50\n",
            "80/80 [==============================] - 0s 4ms/step - loss: 0.0508 - acc: 0.9859 - val_loss: 0.0332 - val_acc: 0.9898\n",
            "Epoch 14/50\n",
            "80/80 [==============================] - 0s 5ms/step - loss: 0.0454 - acc: 0.9868 - val_loss: 0.0301 - val_acc: 0.9899\n",
            "Epoch 15/50\n",
            "80/80 [==============================] - 0s 5ms/step - loss: 0.0419 - acc: 0.9874 - val_loss: 0.0271 - val_acc: 0.9904\n",
            "Epoch 16/50\n",
            "80/80 [==============================] - 0s 5ms/step - loss: 0.0377 - acc: 0.9882 - val_loss: 0.0246 - val_acc: 0.9905\n",
            "Epoch 17/50\n",
            "80/80 [==============================] - 0s 5ms/step - loss: 0.0344 - acc: 0.9886 - val_loss: 0.0218 - val_acc: 0.9908\n",
            "Epoch 18/50\n",
            "80/80 [==============================] - 0s 5ms/step - loss: 0.0314 - acc: 0.9892 - val_loss: 0.0191 - val_acc: 0.9926\n",
            "Epoch 19/50\n",
            "80/80 [==============================] - 0s 5ms/step - loss: 0.0275 - acc: 0.9908 - val_loss: 0.0163 - val_acc: 0.9938\n",
            "Epoch 20/50\n",
            "80/80 [==============================] - 0s 5ms/step - loss: 0.0242 - acc: 0.9922 - val_loss: 0.0142 - val_acc: 0.9950\n",
            "Epoch 21/50\n",
            "80/80 [==============================] - 0s 5ms/step - loss: 0.0212 - acc: 0.9933 - val_loss: 0.0120 - val_acc: 0.9958\n",
            "Epoch 22/50\n",
            "80/80 [==============================] - 0s 5ms/step - loss: 0.0185 - acc: 0.9938 - val_loss: 0.0092 - val_acc: 0.9961\n",
            "Epoch 23/50\n",
            "80/80 [==============================] - 0s 5ms/step - loss: 0.0152 - acc: 0.9949 - val_loss: 0.0062 - val_acc: 0.9976\n",
            "Epoch 24/50\n",
            "80/80 [==============================] - 0s 4ms/step - loss: 0.0118 - acc: 0.9967 - val_loss: 0.0042 - val_acc: 0.9991\n",
            "Epoch 25/50\n",
            "80/80 [==============================] - 0s 5ms/step - loss: 0.0098 - acc: 0.9973 - val_loss: 0.0032 - val_acc: 0.9993\n",
            "Epoch 26/50\n",
            "80/80 [==============================] - 0s 4ms/step - loss: 0.0078 - acc: 0.9978 - val_loss: 0.0025 - val_acc: 0.9993\n",
            "Epoch 27/50\n",
            "80/80 [==============================] - 0s 5ms/step - loss: 0.0069 - acc: 0.9983 - val_loss: 0.0018 - val_acc: 0.9997\n",
            "Epoch 28/50\n",
            "80/80 [==============================] - 0s 5ms/step - loss: 0.0062 - acc: 0.9984 - val_loss: 0.0015 - val_acc: 0.9997\n",
            "Epoch 29/50\n",
            "80/80 [==============================] - 0s 5ms/step - loss: 0.0053 - acc: 0.9987 - val_loss: 0.0013 - val_acc: 0.9998\n",
            "Epoch 30/50\n",
            "80/80 [==============================] - 0s 5ms/step - loss: 0.0050 - acc: 0.9988 - val_loss: 0.0010 - val_acc: 0.9998\n",
            "Epoch 31/50\n",
            "80/80 [==============================] - 0s 5ms/step - loss: 0.0044 - acc: 0.9990 - val_loss: 8.5839e-04 - val_acc: 0.9998\n",
            "Epoch 32/50\n",
            "80/80 [==============================] - 0s 4ms/step - loss: 0.0040 - acc: 0.9991 - val_loss: 7.1464e-04 - val_acc: 0.9998\n",
            "Epoch 33/50\n",
            "80/80 [==============================] - 0s 5ms/step - loss: 0.0037 - acc: 0.9990 - val_loss: 6.2595e-04 - val_acc: 0.9998\n",
            "Epoch 34/50\n",
            "80/80 [==============================] - 0s 5ms/step - loss: 0.0035 - acc: 0.9991 - val_loss: 5.2985e-04 - val_acc: 0.9999\n",
            "Epoch 35/50\n",
            "80/80 [==============================] - 0s 5ms/step - loss: 0.0032 - acc: 0.9992 - val_loss: 4.8391e-04 - val_acc: 0.9999\n",
            "Epoch 36/50\n",
            "80/80 [==============================] - 0s 5ms/step - loss: 0.0032 - acc: 0.9992 - val_loss: 4.2960e-04 - val_acc: 0.9999\n",
            "Epoch 37/50\n",
            "80/80 [==============================] - 0s 5ms/step - loss: 0.0028 - acc: 0.9992 - val_loss: 3.8070e-04 - val_acc: 1.0000\n",
            "Epoch 38/50\n",
            "80/80 [==============================] - 0s 5ms/step - loss: 0.0025 - acc: 0.9994 - val_loss: 3.1501e-04 - val_acc: 1.0000\n",
            "Epoch 39/50\n",
            "80/80 [==============================] - 0s 5ms/step - loss: 0.0025 - acc: 0.9993 - val_loss: 2.9249e-04 - val_acc: 1.0000\n",
            "Epoch 40/50\n",
            "80/80 [==============================] - 0s 5ms/step - loss: 0.0022 - acc: 0.9995 - val_loss: 2.5124e-04 - val_acc: 1.0000\n",
            "Epoch 41/50\n",
            "80/80 [==============================] - 0s 4ms/step - loss: 0.0021 - acc: 0.9995 - val_loss: 2.2878e-04 - val_acc: 1.0000\n",
            "Epoch 42/50\n",
            "80/80 [==============================] - 0s 5ms/step - loss: 0.0020 - acc: 0.9995 - val_loss: 1.8497e-04 - val_acc: 1.0000\n",
            "Epoch 43/50\n",
            "80/80 [==============================] - 0s 5ms/step - loss: 0.0018 - acc: 0.9996 - val_loss: 1.7674e-04 - val_acc: 1.0000\n",
            "Epoch 44/50\n",
            "80/80 [==============================] - 0s 5ms/step - loss: 0.0018 - acc: 0.9996 - val_loss: 1.4940e-04 - val_acc: 1.0000\n",
            "Epoch 45/50\n",
            "80/80 [==============================] - 0s 5ms/step - loss: 0.0016 - acc: 0.9997 - val_loss: 1.5177e-04 - val_acc: 1.0000\n",
            "Epoch 46/50\n",
            "80/80 [==============================] - 0s 5ms/step - loss: 0.0016 - acc: 0.9996 - val_loss: 1.4042e-04 - val_acc: 1.0000\n",
            "Epoch 47/50\n",
            "80/80 [==============================] - 0s 5ms/step - loss: 0.0015 - acc: 0.9996 - val_loss: 1.2286e-04 - val_acc: 1.0000\n",
            "Epoch 48/50\n",
            "80/80 [==============================] - 0s 5ms/step - loss: 0.0013 - acc: 0.9997 - val_loss: 1.0833e-04 - val_acc: 1.0000\n",
            "Epoch 49/50\n",
            "80/80 [==============================] - 0s 4ms/step - loss: 0.0013 - acc: 0.9997 - val_loss: 1.1406e-04 - val_acc: 1.0000\n",
            "Epoch 50/50\n",
            "80/80 [==============================] - 0s 5ms/step - loss: 0.0013 - acc: 0.9998 - val_loss: 8.4256e-05 - val_acc: 1.0000\n"
          ]
        },
        {
          "output_type": "execute_result",
          "data": {
            "text/plain": [
              "<keras.callbacks.History at 0x7f31d9ddf110>"
            ]
          },
          "metadata": {},
          "execution_count": 17
        }
      ]
    },
    {
      "cell_type": "code",
      "metadata": {
        "colab": {
          "base_uri": "https://localhost:8080/"
        },
        "id": "HdqAiLIu0BxH",
        "outputId": "7d9321a6-a80c-4174-ebf3-dd70597a8ca1"
      },
      "source": [
        "# 성능 평가\n",
        "score = model.evaluate(X_test, Y_test, verbose=0)\n",
        "score"
      ],
      "execution_count": null,
      "outputs": [
        {
          "output_type": "execute_result",
          "data": {
            "text/plain": [
              "[1.195909023284912, 0.3327000141143799]"
            ]
          },
          "metadata": {},
          "execution_count": 16
        }
      ]
    },
    {
      "cell_type": "code",
      "metadata": {
        "id": "d7xjPDcy0Ld2"
      },
      "source": [
        "# 모델저장\n",
        "model.save('/content/drive/MyDrive/Colab Notebooks/model/smartcar_model.h5')"
      ],
      "execution_count": null,
      "outputs": []
    },
    {
      "cell_type": "code",
      "metadata": {
        "id": "AlMaj-mg0gnG"
      },
      "source": [
        ""
      ],
      "execution_count": null,
      "outputs": []
    }
  ]
}