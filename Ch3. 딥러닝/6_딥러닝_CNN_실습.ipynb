{
  "nbformat": 4,
  "nbformat_minor": 0,
  "metadata": {
    "colab": {
      "name": "6_딥러닝 CNN 실습.ipynb",
      "provenance": [],
      "collapsed_sections": [],
      "mount_file_id": "12uJZUKgaKQJyVpq5mq7UX9NWvj0ne9i7",
      "authorship_tag": "ABX9TyMI2PGqS4FaV6Pv558/02tD",
      "include_colab_link": true
    },
    "kernelspec": {
      "name": "python3",
      "display_name": "Python 3"
    },
    "language_info": {
      "name": "python"
    },
    "accelerator": "GPU"
  },
  "cells": [
    {
      "cell_type": "markdown",
      "metadata": {
        "id": "view-in-github",
        "colab_type": "text"
      },
      "source": [
        "<a href=\"https://colab.research.google.com/github/lollolzz/Colab/blob/main/Ch3.%20%EB%94%A5%EB%9F%AC%EB%8B%9D/6_%EB%94%A5%EB%9F%AC%EB%8B%9D_CNN_%EC%8B%A4%EC%8A%B5.ipynb\" target=\"_parent\"><img src=\"https://colab.research.google.com/assets/colab-badge.svg\" alt=\"Open In Colab\"/></a>"
      ]
    },
    {
      "cell_type": "code",
      "metadata": {
        "id": "wJs_YyFehdjf"
      },
      "source": [
        "\"\"\"\n",
        "날짜 : 2021/10/27\n",
        "이름 : 권능한\n",
        "내용 : 딥러닝 CNN 실습하기 \n",
        "\n",
        "\"\"\"\n",
        "\n",
        "import tensorflow as tf\n",
        "import numpy as np\n",
        "import pandas as pd\n",
        "import matplotlib.pyplot as plt\n",
        "from tensorflow.keras.datasets.cifar10 import load_data\n",
        "from tensorflow.keras.models import Sequential\n",
        "from tensorflow.keras.layers import Dense, Flatten, Conv2D, MaxPool2D, Dropout\n",
        "from tensorflow.keras.optimizers import Adam\n",
        "from tensorflow.keras.losses import mse\n",
        "from tensorflow.keras.utils import to_categorical\n",
        "from sklearn.preprocessing import LabelEncoder\n",
        "from sklearn.model_selection import train_test_split\n",
        "from sklearn.metrics import accuracy_score\n",
        "from PIL import Image"
      ],
      "execution_count": null,
      "outputs": []
    },
    {
      "cell_type": "code",
      "metadata": {
        "colab": {
          "base_uri": "https://localhost:8080/"
        },
        "id": "Ht4oR5coiqhG",
        "outputId": "a7f36945-673a-4bd9-ae0a-29cdec99b0bf"
      },
      "source": [
        "# 데이터 불러오기\n",
        "(cifar_train_data, cifar_train_label), (cifar_test_data, cifar_test_label) = load_data()\n",
        "cifar_train_data.shape "
      ],
      "execution_count": null,
      "outputs": [
        {
          "output_type": "execute_result",
          "data": {
            "text/plain": [
              "(50000, 32, 32, 3)"
            ]
          },
          "metadata": {},
          "execution_count": 18
        }
      ]
    },
    {
      "cell_type": "code",
      "metadata": {
        "colab": {
          "base_uri": "https://localhost:8080/",
          "height": 337
        },
        "id": "zBYW9NiZjHBz",
        "outputId": "4d034810-fced-4cea-e2eb-3654f5403ddd"
      },
      "source": [
        "# 데이터 이미지 확인\n",
        "plt.title(cifar_train_label[0])\n",
        "plt.imshow(cifar_train_data[0])\n",
        "plt.show()"
      ],
      "execution_count": null,
      "outputs": [
        {
          "output_type": "stream",
          "name": "stderr",
          "text": [
            "/usr/local/lib/python3.7/dist-packages/matplotlib/text.py:1165: FutureWarning: elementwise comparison failed; returning scalar instead, but in the future will perform elementwise comparison\n",
            "  if s != self._text:\n"
          ]
        },
        {
          "output_type": "display_data",
          "data": {
            "image/png": "[encoded data removed]",
            "text/plain": [
              "<Figure size 432x288 with 1 Axes>"
            ]
          },
          "metadata": {
            "needs_background": "light"
          }
        }
      ]
    },
    {
      "cell_type": "code",
      "metadata": {
        "colab": {
          "base_uri": "https://localhost:8080/",
          "height": 340
        },
        "id": "DlQZoXKSjoj5",
        "outputId": "3823173d-cb2f-4fda-c412-84f27f5ad328"
      },
      "source": [
        "# 데이터 샘플 확인\n",
        "label_names = ['Airplane', 'Automobile', 'Bird', 'Cat', 'Deer', 'Dog', 'Frog', 'Horse', 'Ship']\n",
        "random_idx = np.random.randint(50000, size=9)\n",
        "\n",
        "plt.figure(figsize=(5,5))\n",
        "\n",
        "for i, idx in enumerate(random_idx):\n",
        "  plt.subplot(3, 3, i+1)\n",
        "  label = cifar_train_label[idx][0]\n",
        "  plt.imshow(cifar_train_data[idx, :])\n",
        "  plt.title(label_names[label])\n",
        "  plt.axis('off')"
      ],
      "execution_count": null,
      "outputs": [
        {
          "output_type": "error",
          "ename": "IndexError",
          "evalue": "ignored",
          "traceback": [
            "\u001b[0;31m---------------------------------------------------------------------------\u001b[0m",
            "\u001b[0;31mIndexError\u001b[0m                                Traceback (most recent call last)",
            "\u001b[0;32m<ipython-input-20-27d1a19b453d>\u001b[0m in \u001b[0;36m<module>\u001b[0;34m()\u001b[0m\n\u001b[1;32m      9\u001b[0m   \u001b[0mlabel\u001b[0m \u001b[0;34m=\u001b[0m \u001b[0mcifar_train_label\u001b[0m\u001b[0;34m[\u001b[0m\u001b[0midx\u001b[0m\u001b[0;34m]\u001b[0m\u001b[0;34m[\u001b[0m\u001b[0;36m0\u001b[0m\u001b[0;34m]\u001b[0m\u001b[0;34m\u001b[0m\u001b[0;34m\u001b[0m\u001b[0m\n\u001b[1;32m     10\u001b[0m   \u001b[0mplt\u001b[0m\u001b[0;34m.\u001b[0m\u001b[0mimshow\u001b[0m\u001b[0;34m(\u001b[0m\u001b[0mcifar_train_data\u001b[0m\u001b[0;34m[\u001b[0m\u001b[0midx\u001b[0m\u001b[0;34m,\u001b[0m \u001b[0;34m:\u001b[0m\u001b[0;34m]\u001b[0m\u001b[0;34m)\u001b[0m\u001b[0;34m\u001b[0m\u001b[0;34m\u001b[0m\u001b[0m\n\u001b[0;32m---> 11\u001b[0;31m   \u001b[0mplt\u001b[0m\u001b[0;34m.\u001b[0m\u001b[0mtitle\u001b[0m\u001b[0;34m(\u001b[0m\u001b[0mlabel_names\u001b[0m\u001b[0;34m[\u001b[0m\u001b[0mlabel\u001b[0m\u001b[0;34m]\u001b[0m\u001b[0;34m)\u001b[0m\u001b[0;34m\u001b[0m\u001b[0;34m\u001b[0m\u001b[0m\n\u001b[0m\u001b[1;32m     12\u001b[0m   \u001b[0mplt\u001b[0m\u001b[0;34m.\u001b[0m\u001b[0maxis\u001b[0m\u001b[0;34m(\u001b[0m\u001b[0;34m'off'\u001b[0m\u001b[0;34m)\u001b[0m\u001b[0;34m\u001b[0m\u001b[0;34m\u001b[0m\u001b[0m\n",
            "\u001b[0;31mIndexError\u001b[0m: list index out of range"
          ]
        },
        {
          "output_type": "display_data",
          "data": {
            "image/png": "[encoded data removed]",
            "text/plain": [
              "<Figure size 360x360 with 1 Axes>"
            ]
          },
          "metadata": {
            "needs_background": "light"
          }
        }
      ]
    },
    {
      "cell_type": "code",
      "metadata": {
        "id": "uO9wyyBAkba8"
      },
      "source": [
        "# 학습데이터, 라벨(원-핫 인코딩)\n",
        "cifar_train_data = cifar_train_data / 255\n",
        "cifar_test_data = cifar_test_data / 255\n",
        "\n",
        "cifar_train_label= to_categorical(cifar_train_label)\n",
        "cifar_test_label = to_categorical(cifar_test_label)"
      ],
      "execution_count": null,
      "outputs": []
    },
    {
      "cell_type": "code",
      "metadata": {
        "colab": {
          "base_uri": "https://localhost:8080/"
        },
        "id": "BoH_UaLslu37",
        "outputId": "b10543f6-078f-48f0-c016-65d6cc6a766e"
      },
      "source": [
        "#학습모델\n",
        "model = Sequential()\n",
        "\n",
        "#CNN층\n",
        "model.add(Conv2D(32,(3,3),padding='same',activation='relu', input_shape=(32, 32, 3)))\n",
        "model.add(Conv2D(filters=32, kernel_size=3, padding='same', activation='relu'))\n",
        "model.add(MaxPool2D(pool_size=(2,2), strides=2, padding='same'))\n",
        "model.add(Dropout(0.2))\n",
        "\n",
        "#FCNN층(일반 딥러닝 입력층,은닉층, 출력층)\n",
        "model.add(Flatten())\n",
        "model.add(Dense(256, activation='relu'))\n",
        "model.add(Dense(10, activation='softmax'))\n",
        "\n",
        "model.summary()"
      ],
      "execution_count": null,
      "outputs": [
        {
          "output_type": "stream",
          "name": "stdout",
          "text": [
            "Model: \"sequential_2\"\n",
            "_________________________________________________________________\n",
            "Layer (type)                 Output Shape              Param #   \n",
            "=================================================================\n",
            "conv2d_4 (Conv2D)            (None, 32, 32, 32)        896       \n",
            "_________________________________________________________________\n",
            "conv2d_5 (Conv2D)            (None, 32, 32, 32)        9248      \n",
            "_________________________________________________________________\n",
            "max_pooling2d_2 (MaxPooling2 (None, 16, 16, 32)        0         \n",
            "_________________________________________________________________\n",
            "dropout_2 (Dropout)          (None, 16, 16, 32)        0         \n",
            "_________________________________________________________________\n",
            "flatten_2 (Flatten)          (None, 8192)              0         \n",
            "_________________________________________________________________\n",
            "dense_4 (Dense)              (None, 256)               2097408   \n",
            "_________________________________________________________________\n",
            "dense_5 (Dense)              (None, 10)                2570      \n",
            "=================================================================\n",
            "Total params: 2,110,122\n",
            "Trainable params: 2,110,122\n",
            "Non-trainable params: 0\n",
            "_________________________________________________________________\n"
          ]
        }
      ]
    },
    {
      "cell_type": "code",
      "metadata": {
        "id": "S3oloLDCm8Pc"
      },
      "source": [
        "# 모델 설정\n",
        "model.compile(optimizer='Adam',loss='categorical_crossentropy', metrics=['acc'])"
      ],
      "execution_count": null,
      "outputs": []
    },
    {
      "cell_type": "code",
      "metadata": {
        "id": "E8_-ywVTss74",
        "colab": {
          "base_uri": "https://localhost:8080/"
        },
        "outputId": "ee70e890-284b-4b7b-a575-7e90ac5ccf29"
      },
      "source": [
        "# 학습하기\n",
        "model.fit(cifar_train_data, cifar_train_label, epochs=20)"
      ],
      "execution_count": null,
      "outputs": [
        {
          "output_type": "stream",
          "name": "stdout",
          "text": [
            "Epoch 1/20\n",
            "1563/1563 [==============================] - 13s 8ms/step - loss: 1.2829 - acc: 0.5437\n",
            "Epoch 2/20\n",
            "1563/1563 [==============================] - 12s 8ms/step - loss: 0.9112 - acc: 0.6796\n",
            "Epoch 3/20\n",
            "1563/1563 [==============================] - 12s 8ms/step - loss: 0.7308 - acc: 0.7429\n",
            "Epoch 4/20\n",
            "1563/1563 [==============================] - 12s 8ms/step - loss: 0.5780 - acc: 0.7976\n",
            "Epoch 5/20\n",
            "1563/1563 [==============================] - 12s 7ms/step - loss: 0.4324 - acc: 0.8485\n",
            "Epoch 6/20\n",
            "1563/1563 [==============================] - 12s 7ms/step - loss: 0.3187 - acc: 0.8887\n",
            "Epoch 7/20\n",
            "1563/1563 [==============================] - 12s 7ms/step - loss: 0.2368 - acc: 0.9169\n",
            "Epoch 8/20\n",
            "1563/1563 [==============================] - 12s 7ms/step - loss: 0.1854 - acc: 0.9354\n",
            "Epoch 9/20\n",
            "1563/1563 [==============================] - 11s 7ms/step - loss: 0.1521 - acc: 0.9463\n",
            "Epoch 10/20\n",
            "1563/1563 [==============================] - 12s 7ms/step - loss: 0.1335 - acc: 0.9537\n",
            "Epoch 11/20\n",
            "1563/1563 [==============================] - 12s 7ms/step - loss: 0.1168 - acc: 0.9589\n",
            "Epoch 12/20\n",
            "1563/1563 [==============================] - 12s 7ms/step - loss: 0.1064 - acc: 0.9643\n",
            "Epoch 13/20\n",
            "1563/1563 [==============================] - 12s 7ms/step - loss: 0.1024 - acc: 0.9658\n",
            "Epoch 14/20\n",
            "1563/1563 [==============================] - 12s 7ms/step - loss: 0.0930 - acc: 0.9685\n",
            "Epoch 15/20\n",
            "1563/1563 [==============================] - 12s 7ms/step - loss: 0.0874 - acc: 0.9704\n",
            "Epoch 16/20\n",
            "1563/1563 [==============================] - 12s 7ms/step - loss: 0.0864 - acc: 0.9705\n",
            "Epoch 17/20\n",
            "1563/1563 [==============================] - 12s 7ms/step - loss: 0.0776 - acc: 0.9740\n",
            "Epoch 18/20\n",
            "1563/1563 [==============================] - 12s 7ms/step - loss: 0.0778 - acc: 0.9743\n",
            "Epoch 19/20\n",
            "1563/1563 [==============================] - 12s 7ms/step - loss: 0.0763 - acc: 0.9742\n",
            "Epoch 20/20\n",
            "1563/1563 [==============================] - 11s 7ms/step - loss: 0.0710 - acc: 0.9763\n"
          ]
        },
        {
          "output_type": "execute_result",
          "data": {
            "text/plain": [
              "<keras.callbacks.History at 0x7f5e2008eed0>"
            ]
          },
          "metadata": {},
          "execution_count": 24
        }
      ]
    },
    {
      "cell_type": "code",
      "metadata": {
        "colab": {
          "base_uri": "https://localhost:8080/"
        },
        "id": "-RgI-i5Ns2LI",
        "outputId": "827d216c-f112-4708-8c12-32b53374d791"
      },
      "source": [
        "# 평가하기 \n",
        "model.evaluate(cifar_test_data, cifar_test_label)"
      ],
      "execution_count": null,
      "outputs": [
        {
          "output_type": "stream",
          "name": "stdout",
          "text": [
            "313/313 [==============================] - 2s 4ms/step - loss: 1.9930 - acc: 0.6906\n"
          ]
        },
        {
          "output_type": "execute_result",
          "data": {
            "text/plain": [
              "[1.9929664134979248, 0.6905999779701233]"
            ]
          },
          "metadata": {},
          "execution_count": 25
        }
      ]
    },
    {
      "cell_type": "code",
      "metadata": {
        "id": "RSXxWvtMveYo"
      },
      "source": [
        "# 모델 저장\n",
        "model.save('/content/drive/MyDrive/Colab Notebooks/model/cifar10.h5')"
      ],
      "execution_count": null,
      "outputs": []
    },
    {
      "cell_type": "code",
      "metadata": {
        "id": "ZjnPb3EPywLM"
      },
      "source": [
        ""
      ],
      "execution_count": null,
      "outputs": []
    }
  ]
}