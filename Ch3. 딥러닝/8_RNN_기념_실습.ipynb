{
  "nbformat": 4,
  "nbformat_minor": 0,
  "metadata": {
    "colab": {
      "name": "8_RNN 기념 실습.ipynb",
      "provenance": [],
      "collapsed_sections": [],
      "authorship_tag": "ABX9TyPTscdodfJf2Q20vWAQH4tn",
      "include_colab_link": true
    },
    "kernelspec": {
      "name": "python3",
      "display_name": "Python 3"
    },
    "language_info": {
      "name": "python"
    }
  },
  "cells": [
    {
      "cell_type": "markdown",
      "metadata": {
        "id": "view-in-github",
        "colab_type": "text"
      },
      "source": [
        "<a href=\"https://colab.research.google.com/github/lollolzz/Colab/blob/main/Ch3.%20%EB%94%A5%EB%9F%AC%EB%8B%9D/8_RNN_%EA%B8%B0%EB%85%90_%EC%8B%A4%EC%8A%B5.ipynb\" target=\"_parent\"><img src=\"https://colab.research.google.com/assets/colab-badge.svg\" alt=\"Open In Colab\"/></a>"
      ]
    },
    {
      "cell_type": "code",
      "metadata": {
        "id": "hL-UFtDJburn"
      },
      "source": [
        "\"\"\"\n",
        "날짜 : 2021/10/28\n",
        "이름 : 권능한\n",
        "내용 : RNN 개념 실습하기\n",
        "\"\"\"\n",
        "import tensorflow as tf\n",
        "import numpy as np\n",
        "import matplotlib.pyplot as plt\n",
        "from tensorflow.keras.layers import SimpleRNN, Flatten, Dense\n",
        "from tensorflow.keras.models import Sequential"
      ],
      "execution_count": null,
      "outputs": []
    },
    {
      "cell_type": "code",
      "metadata": {
        "id": "H19kaJrEcgCn"
      },
      "source": [
        "# 데이터 준비\n",
        "# traffic : [1,0,0,0]\n",
        "# ticket : [0,1,0,0]\n",
        "# fine : [0,0,1,0]\n",
        "# was : [0,0,0,1]\n",
        "\n",
        "data = np.array([[[1, 0, 0, 0], [0, 1, 0, 0], [0, 0, 1, 0]],\n",
        "                [[1, 0, 0, 0], [0, 0, 0, 1], [0, 0, 1, 0]]])\n",
        "\n",
        "label = np.array([0, 1])"
      ],
      "execution_count": null,
      "outputs": []
    },
    {
      "cell_type": "code",
      "metadata": {
        "colab": {
          "base_uri": "https://localhost:8080/"
        },
        "id": "nown-GscdDDv",
        "outputId": "021893bc-0bab-461b-a2cd-14637e57a4bf"
      },
      "source": [
        "# 모델 구성하기\n",
        "model = Sequential()\n",
        "model.add(SimpleRNN(units=4, activation='sigmoid', input_shape=(3, 4)))\n",
        "model.add(Dense(1, activation='sigmoid'))\n",
        "model.summary()"
      ],
      "execution_count": null,
      "outputs": [
        {
          "output_type": "stream",
          "name": "stdout",
          "text": [
            "Model: \"sequential\"\n",
            "_________________________________________________________________\n",
            "Layer (type)                 Output Shape              Param #   \n",
            "=================================================================\n",
            "simple_rnn (SimpleRNN)       (None, 4)                 36        \n",
            "_________________________________________________________________\n",
            "dense (Dense)                (None, 1)                 5         \n",
            "=================================================================\n",
            "Total params: 41\n",
            "Trainable params: 41\n",
            "Non-trainable params: 0\n",
            "_________________________________________________________________\n"
          ]
        }
      ]
    },
    {
      "cell_type": "code",
      "metadata": {
        "id": "m2748Y1dcgAI"
      },
      "source": [
        "# 모델설정\n",
        "model.compile(optimizer='Adam', loss='mse')"
      ],
      "execution_count": null,
      "outputs": []
    },
    {
      "cell_type": "code",
      "metadata": {
        "id": "NijnJemJd-09"
      },
      "source": [
        "#학습하기\n",
        "model.fit(data, label, epochs=1000)"
      ],
      "execution_count": null,
      "outputs": []
    },
    {
      "cell_type": "code",
      "metadata": {
        "colab": {
          "base_uri": "https://localhost:8080/"
        },
        "id": "hSI7Bgk-eIu2",
        "outputId": "979ced83-47b0-4cff-a4cf-d1ddbc5d9f3f"
      },
      "source": [
        "# 테스트하기\n",
        "result = model.predict(data)\n",
        "result"
      ],
      "execution_count": null,
      "outputs": [
        {
          "output_type": "execute_result",
          "data": {
            "text/plain": [
              "array([[0.22260016],\n",
              "       [0.74605787]], dtype=float32)"
            ]
          },
          "metadata": {},
          "execution_count": 10
        }
      ]
    },
    {
      "cell_type": "code",
      "metadata": {
        "id": "JQ3jiJ7xec34"
      },
      "source": [
        ""
      ],
      "execution_count": null,
      "outputs": []
    }
  ]
}