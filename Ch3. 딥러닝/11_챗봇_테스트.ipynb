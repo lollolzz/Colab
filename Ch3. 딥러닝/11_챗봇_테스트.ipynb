{
  "nbformat": 4,
  "nbformat_minor": 0,
  "metadata": {
    "colab": {
      "name": "11_챗봇_테스트.ipynb",
      "provenance": [],
      "authorship_tag": "ABX9TyNF8/Or3ZLjkSD3R47MPL5A",
      "include_colab_link": true
    },
    "kernelspec": {
      "name": "python3",
      "display_name": "Python 3"
    },
    "language_info": {
      "name": "python"
    }
  },
  "cells": [
    {
      "cell_type": "markdown",
      "metadata": {
        "id": "view-in-github",
        "colab_type": "text"
      },
      "source": [
        "<a href=\"https://colab.research.google.com/github/lollolzz/Colab/blob/main/Ch3.%20%EB%94%A5%EB%9F%AC%EB%8B%9D/11_%EC%B1%97%EB%B4%87_%ED%85%8C%EC%8A%A4%ED%8A%B8.ipynb\" target=\"_parent\"><img src=\"https://colab.research.google.com/assets/colab-badge.svg\" alt=\"Open In Colab\"/></a>"
      ]
    },
    {
      "cell_type": "code",
      "metadata": {
        "id": "AQu5faJSeA0d"
      },
      "source": [
        "\"\"\"\n",
        "날짜 : 2021/11/01\n",
        "이름 : 권능한\n",
        "내용 : 딥러닝 챗봇 실습하기 \n",
        "\n",
        "\"\"\"\n",
        "import tensorflow as tf\n",
        "import numpy as np\n",
        "import codecs, random, sys\n",
        "import matplotlib.pyplot as plt\n",
        "from tensorflow.keras.layers import SimpleRNN, Flatten, Dense, Activation, Dropout, Embedding, LSTM\n",
        "from tensorflow.keras.models import Sequential, load_model\n",
        "from tensorflow.keras.optimizers import RMSprop\n",
        "from tensorflow.keras.utils import to_categorical\n",
        "from keras.utils.data_utils import get_file\n",
        "from tensorflow.keras.preprocessing.text import Tokenizer\n",
        "from tensorflow.keras.preprocessing.sequence import pad_sequences"
      ],
      "execution_count": null,
      "outputs": []
    },
    {
      "cell_type": "code",
      "metadata": {
        "id": "LAfbMQ9veJ6f"
      },
      "source": [
        ""
      ],
      "execution_count": null,
      "outputs": []
    }
  ]
}