{
  "nbformat": 4,
  "nbformat_minor": 0,
  "metadata": {
    "colab": {
      "name": "3_다중선형회귀 실습.ipynb",
      "provenance": [],
      "collapsed_sections": [],
      "authorship_tag": "ABX9TyPyvYGdeWnFs+nabfhBTo19",
      "include_colab_link": true
    },
    "kernelspec": {
      "name": "python3",
      "display_name": "Python 3"
    },
    "language_info": {
      "name": "python"
    }
  },
  "cells": [
    {
      "cell_type": "markdown",
      "metadata": {
        "id": "view-in-github",
        "colab_type": "text"
      },
      "source": [
        "<a href=\"https://colab.research.google.com/github/lollolzz/Colab/blob/main/Ch02%EB%A8%B8%EC%8B%A0%EB%9F%AC%EB%8B%9D%20%EC%8B%A4%EC%8A%B5/3_%EB%8B%A4%EC%A4%91%EC%84%A0%ED%98%95%ED%9A%8C%EA%B7%80_%EC%8B%A4%EC%8A%B5.ipynb\" target=\"_parent\"><img src=\"https://colab.research.google.com/assets/colab-badge.svg\" alt=\"Open In Colab\"/></a>"
      ]
    },
    {
      "cell_type": "code",
      "metadata": {
        "id": "UmNaHYY9SNdz"
      },
      "source": [
        "\"\"\"\n",
        "날짜 : 2021/10/19\n",
        "이름 : 권능한\n",
        "내용 : 다중선형회귀 실습하기 \n",
        "\"\"\"\n",
        "from sklearn.linear_model import LinearRegression"
      ],
      "execution_count": null,
      "outputs": []
    },
    {
      "cell_type": "code",
      "metadata": {
        "id": "RvcRxslMSmph"
      },
      "source": [
        "# 학습데이터\n",
        "train_data = [[170, 27, 1],[155, 25, 2],[150, 34, 2],[175, 51, 1] ,[165, 47, 1]]\n",
        "train_label = [65, 50, 45, 70, 55]"
      ],
      "execution_count": null,
      "outputs": []
    },
    {
      "cell_type": "code",
      "metadata": {
        "colab": {
          "base_uri": "https://localhost:8080/"
        },
        "id": "jQKD7gmTSomI",
        "outputId": "86720133-99b4-4036-8cbd-ff0a437dbb77"
      },
      "source": [
        "# 학습하기\n",
        "model = LinearRegression()\n",
        "model.fit(train_data, train_label)"
      ],
      "execution_count": null,
      "outputs": [
        {
          "output_type": "execute_result",
          "data": {
            "text/plain": [
              "LinearRegression(copy_X=True, fit_intercept=True, n_jobs=None, normalize=False)"
            ]
          },
          "metadata": {},
          "execution_count": 19
        }
      ]
    },
    {
      "cell_type": "code",
      "metadata": {
        "colab": {
          "base_uri": "https://localhost:8080/"
        },
        "id": "wc5VaJVkTBM4",
        "outputId": "07fddc11-2a49-4f7b-9aff-c15adb41fa81"
      },
      "source": [
        "# 테스트하기\n",
        "test_data = [[160, 21, 1], [172, 35, 2], [178, 28, 2], [186, 41, 2], [154, 36, 1]]\n",
        "result = model.predict(test_data)\n",
        "result"
      ],
      "execution_count": null,
      "outputs": [
        {
          "output_type": "execute_result",
          "data": {
            "text/plain": [
              "array([50.79051383, 74.36561265, 83.23320158, 93.51185771, 41.36956522])"
            ]
          },
          "metadata": {},
          "execution_count": 20
        }
      ]
    },
    {
      "cell_type": "code",
      "metadata": {
        "id": "9v0Pqx8sTVoA"
      },
      "source": [
        ""
      ],
      "execution_count": null,
      "outputs": []
    }
  ]
}