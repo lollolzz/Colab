{
  "nbformat": 4,
  "nbformat_minor": 0,
  "metadata": {
    "colab": {
      "name": "4_로지스틱 회귀분석 실습.ipynb",
      "provenance": [],
      "collapsed_sections": [],
      "authorship_tag": "ABX9TyNAO3hQA8CntvzZJShaxpRG",
      "include_colab_link": true
    },
    "kernelspec": {
      "name": "python3",
      "display_name": "Python 3"
    },
    "language_info": {
      "name": "python"
    }
  },
  "cells": [
    {
      "cell_type": "markdown",
      "metadata": {
        "id": "view-in-github",
        "colab_type": "text"
      },
      "source": [
        "<a href=\"https://colab.research.google.com/github/lollolzz/Colab/blob/main/Ch02%EB%A8%B8%EC%8B%A0%EB%9F%AC%EB%8B%9D%20%EC%8B%A4%EC%8A%B5/4_%EB%A1%9C%EC%A7%80%EC%8A%A4%ED%8B%B1_%ED%9A%8C%EA%B7%80%EB%B6%84%EC%84%9D_%EC%8B%A4%EC%8A%B5.ipynb\" target=\"_parent\"><img src=\"https://colab.research.google.com/assets/colab-badge.svg\" alt=\"Open In Colab\"/></a>"
      ]
    },
    {
      "cell_type": "code",
      "metadata": {
        "id": "aIqy_RxnU7Jx"
      },
      "source": [
        "\"\"\"\n",
        "날짜 : 2021/10/19\n",
        "이름 : 권능한\n",
        "내용 :로지스틱 회귀분석 실습하기\n",
        "\"\"\"\n",
        "from sklearn.linear_model import LogisticRegression"
      ],
      "execution_count": null,
      "outputs": []
    },
    {
      "cell_type": "code",
      "metadata": {
        "id": "NqFIVtw8VTwp"
      },
      "source": [
        "# 학습데이터 \n",
        "train_data = [[43, 27],[36, 76],[28, 72],[63, 45],[59, 37]]\n",
        "train_label = [1, 2, 2, 1, 1]"
      ],
      "execution_count": null,
      "outputs": []
    },
    {
      "cell_type": "code",
      "metadata": {
        "colab": {
          "base_uri": "https://localhost:8080/"
        },
        "id": "Jzo-hFILVlv4",
        "outputId": "2b843a4b-d45c-4e95-8a19-99ed39440842"
      },
      "source": [
        "# 학습하기\n",
        "\n",
        "model = LogisticRegression()\n",
        "model.fit(train_data,train_label)\n",
        "test_data = [[46, 62],[27, 45],[37, 51]]\n",
        "result = model.predict(test_data)\n",
        "result"
      ],
      "execution_count": null,
      "outputs": [
        {
          "output_type": "execute_result",
          "data": {
            "text/plain": [
              "array([2, 2, 1])"
            ]
          },
          "metadata": {},
          "execution_count": 6
        }
      ]
    },
    {
      "cell_type": "code",
      "metadata": {
        "id": "U2kIKnijWivQ"
      },
      "source": [
        "\n",
        "\n",
        "# 학습하기\n",
        "\n",
        "model = LogisticRegression()\n",
        "model.fit(train_data,train_label)\n",
        "test_data = [[46, 62],[27, 45],[37, 51]]\n",
        "result = model.predict(test_data)\n",
        "result\n"
      ],
      "execution_count": null,
      "outputs": []
    },
    {
      "cell_type": "code",
      "metadata": {
        "id": "tmhSdeCvVuev"
      },
      "source": [
        ""
      ],
      "execution_count": null,
      "outputs": []
    }
  ]
}