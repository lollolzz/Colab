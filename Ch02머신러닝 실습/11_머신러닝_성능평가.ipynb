{
  "nbformat": 4,
  "nbformat_minor": 0,
  "metadata": {
    "colab": {
      "name": "11_머신러닝_성능평가.ipynb",
      "provenance": [],
      "collapsed_sections": [],
      "mount_file_id": "1RPu4-sqgjCfw29i-Fwe-Th8dVgsAaWlC",
      "authorship_tag": "ABX9TyOFxAJ5ZCyPg8fA0lV6mtQa",
      "include_colab_link": true
    },
    "kernelspec": {
      "name": "python3",
      "display_name": "Python 3"
    },
    "language_info": {
      "name": "python"
    }
  },
  "cells": [
    {
      "cell_type": "markdown",
      "metadata": {
        "id": "view-in-github",
        "colab_type": "text"
      },
      "source": [
        "<a href=\"https://colab.research.google.com/github/lollolzz/Colab/blob/main/Ch02%EB%A8%B8%EC%8B%A0%EB%9F%AC%EB%8B%9D%20%EC%8B%A4%EC%8A%B5/11_%EB%A8%B8%EC%8B%A0%EB%9F%AC%EB%8B%9D_%EC%84%B1%EB%8A%A5%ED%8F%89%EA%B0%80.ipynb\" target=\"_parent\"><img src=\"https://colab.research.google.com/assets/colab-badge.svg\" alt=\"Open In Colab\"/></a>"
      ]
    },
    {
      "cell_type": "code",
      "metadata": {
        "id": "Ho8u5yj9xSCj"
      },
      "source": [
        "\"\"\"\n",
        "날짜 : 2021/10/21\n",
        "이름 : 권능한\n",
        "내용 : 머신러닝 성능평가 실습\n",
        "\"\"\"\n",
        "import pandas as pd\n",
        "from sklearn import svm, metrics, model_selection\n",
        "from sklearn.ensemble import RandomForestClassifier\n",
        "from sklearn.model_selection import train_test_split, cross_val_score\n",
        "from sklearn.metrics import confusion_matrix\n",
        "from sklearn.metrics import classification_report\n"
      ],
      "execution_count": null,
      "outputs": []
    },
    {
      "cell_type": "code",
      "metadata": {
        "colab": {
          "base_uri": "https://localhost:8080/",
          "height": 419
        },
        "id": "VrLy4aShz8KJ",
        "outputId": "728770c9-e629-451a-9ed5-902f427d1bbc"
      },
      "source": [
        "# 데이터 불러오기\n",
        "df_iris = pd.read_csv('/content/drive/MyDrive/Colab Notebooks/file/iris.csv')\n",
        "df_iris"
      ],
      "execution_count": null,
      "outputs": [
        {
          "output_type": "execute_result",
          "data": {
            "text/html": [
              "<div>\n",
              "<style scoped>\n",
              "    .dataframe tbody tr th:only-of-type {\n",
              "        vertical-align: middle;\n",
              "    }\n",
              "\n",
              "    .dataframe tbody tr th {\n",
              "        vertical-align: top;\n",
              "    }\n",
              "\n",
              "    .dataframe thead th {\n",
              "        text-align: right;\n",
              "    }\n",
              "</style>\n",
              "<table border=\"1\" class=\"dataframe\">\n",
              "  <thead>\n",
              "    <tr style=\"text-align: right;\">\n",
              "      <th></th>\n",
              "      <th>sepal.length</th>\n",
              "      <th>sepal.width</th>\n",
              "      <th>petal.length</th>\n",
              "      <th>petal.width</th>\n",
              "      <th>variety</th>\n",
              "    </tr>\n",
              "  </thead>\n",
              "  <tbody>\n",
              "    <tr>\n",
              "      <th>0</th>\n",
              "      <td>5.1</td>\n",
              "      <td>3.5</td>\n",
              "      <td>1.4</td>\n",
              "      <td>0.2</td>\n",
              "      <td>Setosa</td>\n",
              "    </tr>\n",
              "    <tr>\n",
              "      <th>1</th>\n",
              "      <td>4.9</td>\n",
              "      <td>3.0</td>\n",
              "      <td>1.4</td>\n",
              "      <td>0.2</td>\n",
              "      <td>Setosa</td>\n",
              "    </tr>\n",
              "    <tr>\n",
              "      <th>2</th>\n",
              "      <td>4.7</td>\n",
              "      <td>3.2</td>\n",
              "      <td>1.3</td>\n",
              "      <td>0.2</td>\n",
              "      <td>Setosa</td>\n",
              "    </tr>\n",
              "    <tr>\n",
              "      <th>3</th>\n",
              "      <td>4.6</td>\n",
              "      <td>3.1</td>\n",
              "      <td>1.5</td>\n",
              "      <td>0.2</td>\n",
              "      <td>Setosa</td>\n",
              "    </tr>\n",
              "    <tr>\n",
              "      <th>4</th>\n",
              "      <td>5.0</td>\n",
              "      <td>3.6</td>\n",
              "      <td>1.4</td>\n",
              "      <td>0.2</td>\n",
              "      <td>Setosa</td>\n",
              "    </tr>\n",
              "    <tr>\n",
              "      <th>...</th>\n",
              "      <td>...</td>\n",
              "      <td>...</td>\n",
              "      <td>...</td>\n",
              "      <td>...</td>\n",
              "      <td>...</td>\n",
              "    </tr>\n",
              "    <tr>\n",
              "      <th>145</th>\n",
              "      <td>6.7</td>\n",
              "      <td>3.0</td>\n",
              "      <td>5.2</td>\n",
              "      <td>2.3</td>\n",
              "      <td>Virginica</td>\n",
              "    </tr>\n",
              "    <tr>\n",
              "      <th>146</th>\n",
              "      <td>6.3</td>\n",
              "      <td>2.5</td>\n",
              "      <td>5.0</td>\n",
              "      <td>1.9</td>\n",
              "      <td>Virginica</td>\n",
              "    </tr>\n",
              "    <tr>\n",
              "      <th>147</th>\n",
              "      <td>6.5</td>\n",
              "      <td>3.0</td>\n",
              "      <td>5.2</td>\n",
              "      <td>2.0</td>\n",
              "      <td>Virginica</td>\n",
              "    </tr>\n",
              "    <tr>\n",
              "      <th>148</th>\n",
              "      <td>6.2</td>\n",
              "      <td>3.4</td>\n",
              "      <td>5.4</td>\n",
              "      <td>2.3</td>\n",
              "      <td>Virginica</td>\n",
              "    </tr>\n",
              "    <tr>\n",
              "      <th>149</th>\n",
              "      <td>5.9</td>\n",
              "      <td>3.0</td>\n",
              "      <td>5.1</td>\n",
              "      <td>1.8</td>\n",
              "      <td>Virginica</td>\n",
              "    </tr>\n",
              "  </tbody>\n",
              "</table>\n",
              "<p>150 rows × 5 columns</p>\n",
              "</div>"
            ],
            "text/plain": [
              "     sepal.length  sepal.width  petal.length  petal.width    variety\n",
              "0             5.1          3.5           1.4          0.2     Setosa\n",
              "1             4.9          3.0           1.4          0.2     Setosa\n",
              "2             4.7          3.2           1.3          0.2     Setosa\n",
              "3             4.6          3.1           1.5          0.2     Setosa\n",
              "4             5.0          3.6           1.4          0.2     Setosa\n",
              "..            ...          ...           ...          ...        ...\n",
              "145           6.7          3.0           5.2          2.3  Virginica\n",
              "146           6.3          2.5           5.0          1.9  Virginica\n",
              "147           6.5          3.0           5.2          2.0  Virginica\n",
              "148           6.2          3.4           5.4          2.3  Virginica\n",
              "149           5.9          3.0           5.1          1.8  Virginica\n",
              "\n",
              "[150 rows x 5 columns]"
            ]
          },
          "metadata": {},
          "execution_count": 20
        }
      ]
    },
    {
      "cell_type": "code",
      "metadata": {
        "colab": {
          "base_uri": "https://localhost:8080/"
        },
        "id": "f0DPNfCF0PpH",
        "outputId": "0bac5c25-c7d6-42a3-8167-cb799229cdb8"
      },
      "source": [
        "# 훈련 데이터\n",
        "iris_data = df_iris.iloc[:, 0:4]\n",
        "iris_label = df_iris.iloc[:, 4]\n",
        "\n",
        "train_data, test_data, train_label, test_label = train_test_split(iris_data, iris_label, test_size=0.5)\n",
        "train_data.shape"
      ],
      "execution_count": null,
      "outputs": [
        {
          "output_type": "execute_result",
          "data": {
            "text/plain": [
              "(75, 4)"
            ]
          },
          "metadata": {},
          "execution_count": 41
        }
      ]
    },
    {
      "cell_type": "code",
      "metadata": {
        "colab": {
          "base_uri": "https://localhost:8080/"
        },
        "id": "e90aQ6Ur0SH_",
        "outputId": "7db5846d-b6c0-456b-f5f2-106e40a2977b"
      },
      "source": [
        "# 학습하기\n",
        "model1 = svm.SVC()\n",
        "model2 = RandomForestClassifier()\n",
        "\n",
        "model1.fit(train_data, train_label)\n",
        "model2.fit(train_data, train_label)"
      ],
      "execution_count": null,
      "outputs": [
        {
          "output_type": "execute_result",
          "data": {
            "text/plain": [
              "RandomForestClassifier(bootstrap=True, ccp_alpha=0.0, class_weight=None,\n",
              "                       criterion='gini', max_depth=None, max_features='auto',\n",
              "                       max_leaf_nodes=None, max_samples=None,\n",
              "                       min_impurity_decrease=0.0, min_impurity_split=None,\n",
              "                       min_samples_leaf=1, min_samples_split=2,\n",
              "                       min_weight_fraction_leaf=0.0, n_estimators=100,\n",
              "                       n_jobs=None, oob_score=False, random_state=None,\n",
              "                       verbose=0, warm_start=False)"
            ]
          },
          "metadata": {},
          "execution_count": 31
        }
      ]
    },
    {
      "cell_type": "code",
      "metadata": {
        "id": "lVLylJ2Y1S6Y"
      },
      "source": [
        "# 테스트하기\n",
        "result_model1 = model1.predict(test_data)\n",
        "result_model2 = model2.predict(test_data)\n"
      ],
      "execution_count": null,
      "outputs": []
    },
    {
      "cell_type": "code",
      "metadata": {
        "colab": {
          "base_uri": "https://localhost:8080/"
        },
        "id": "LJGEHqQI1iZ3",
        "outputId": "7628ce96-f9f0-4e58-f878-c10efb2c928c"
      },
      "source": [
        "# 모델평가1 - 정확도(Accuracy) 확인\n",
        "score1 = metrics.accuracy_score(test_label, result_model1)\n",
        "socre2 = metrics.accuracy_score(test_label, result_model2)\n",
        "print('score1 :', score1)\n",
        "print('socre2 :', socre2)"
      ],
      "execution_count": null,
      "outputs": [
        {
          "output_type": "stream",
          "name": "stdout",
          "text": [
            "score1 : 0.9466666666666667\n",
            "socre2 : 0.9333333333333333\n"
          ]
        }
      ]
    },
    {
      "cell_type": "code",
      "metadata": {
        "colab": {
          "base_uri": "https://localhost:8080/"
        },
        "id": "f3l4SIkO10KX",
        "outputId": "bb3c03e7-f867-483a-97ed-d82ebdfbd49a"
      },
      "source": [
        "# 모델평가2 - 혼동행렬 평가\n",
        "cm1 = confusion_matrix(test_label, result_model1)\n",
        "cm2 = confusion_matrix(test_label, result_model2)\n",
        "print('cm1')\n",
        "print(cm1)\n",
        "\n",
        "print('cm2')\n",
        "print(cm2)\n",
        "\n",
        "cr1= classification_report(test_label, result_model1, target_names=['setosa','versicolor','virginica'])\n",
        "cr2= classification_report(test_label, result_model2, target_names=['setosa','versicolor','virginica'])\n",
        "print(cr1)\n",
        "print(cr2)\n"
      ],
      "execution_count": null,
      "outputs": [
        {
          "output_type": "stream",
          "name": "stdout",
          "text": [
            "cm1\n",
            "[[20  0  0]\n",
            " [ 0 22  1]\n",
            " [ 0  3 29]]\n",
            "cm2\n",
            "[[20  0  0]\n",
            " [ 0 22  1]\n",
            " [ 0  4 28]]\n",
            "              precision    recall  f1-score   support\n",
            "\n",
            "      setosa       1.00      1.00      1.00        20\n",
            "  versicolor       0.88      0.96      0.92        23\n",
            "   virginica       0.97      0.91      0.94        32\n",
            "\n",
            "    accuracy                           0.95        75\n",
            "   macro avg       0.95      0.95      0.95        75\n",
            "weighted avg       0.95      0.95      0.95        75\n",
            "\n",
            "              precision    recall  f1-score   support\n",
            "\n",
            "      setosa       1.00      1.00      1.00        20\n",
            "  versicolor       0.85      0.96      0.90        23\n",
            "   virginica       0.97      0.88      0.92        32\n",
            "\n",
            "    accuracy                           0.93        75\n",
            "   macro avg       0.94      0.94      0.94        75\n",
            "weighted avg       0.94      0.93      0.93        75\n",
            "\n"
          ]
        }
      ]
    },
    {
      "cell_type": "code",
      "metadata": {
        "colab": {
          "base_uri": "https://localhost:8080/"
        },
        "id": "1v65Stwy2xzv",
        "outputId": "0c0849b6-bd19-4642-e707-128bfaea20d0"
      },
      "source": [
        "# 모델평가3 - K-교차검증 평가\n",
        "score1 = cross_val_score(model1, train_data, train_label, cv=5)\n",
        "score2 = cross_val_score(model2, train_data, train_label, cv=5)\n",
        "print(score1)\n",
        "print(score2)"
      ],
      "execution_count": null,
      "outputs": [
        {
          "output_type": "stream",
          "name": "stdout",
          "text": [
            "[0.93333333 0.86666667 0.93333333 1.         1.        ]\n",
            "[0.93333333 0.93333333 0.93333333 0.93333333 1.        ]\n"
          ]
        }
      ]
    }
  ]
}