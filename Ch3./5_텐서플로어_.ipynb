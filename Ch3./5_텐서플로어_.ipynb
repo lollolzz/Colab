{
  "nbformat": 4,
  "nbformat_minor": 0,
  "metadata": {
    "colab": {
      "name": "5_텐서플로어_.ipynb",
      "provenance": [],
      "collapsed_sections": [],
      "mount_file_id": "1lmzgOScFIlxOhr4XkVeoTil6xhW794Fn",
      "authorship_tag": "ABX9TyPCkuFro8/n4LsrqIziAGmz",
      "include_colab_link": true
    },
    "kernelspec": {
      "display_name": "Python 3",
      "name": "python3"
    },
    "language_info": {
      "name": "python"
    }
  },
  "cells": [
    {
      "cell_type": "markdown",
      "metadata": {
        "id": "view-in-github",
        "colab_type": "text"
      },
      "source": [
        "<a href=\"https://colab.research.google.com/github/lollolzz/Colab/blob/main/Ch3./5_%ED%85%90%EC%84%9C%ED%94%8C%EB%A1%9C%EC%96%B4_.ipynb\" target=\"_parent\"><img src=\"https://colab.research.google.com/assets/colab-badge.svg\" alt=\"Open In Colab\"/></a>"
      ]
    },
    {
      "cell_type": "code",
      "metadata": {
        "id": "am0GPFuTP_FV"
      },
      "source": [
        "\"\"\"\n",
        "날짜 : 2021/10/26\n",
        "이름 : 권능한\n",
        "날짜 : 텐서플로 iris 실습하기\n",
        "\"\"\"\n",
        "import tensorflow as tf\n",
        "import numpy as np\n",
        "import pandas as pd\n",
        "import matplotlib.pyplot as plt\n",
        "from tensorflow.keras.datasets.mnist import load_data\n",
        "from tensorflow.keras.models import Sequential\n",
        "from tensorflow.keras.layers import Dense, Flatten\n",
        "from tensorflow.keras.optimizers import Adam\n",
        "from tensorflow.keras.losses import mse\n",
        "from tensorflow.keras.utils import to_categorical\n",
        "from sklearn.preprocessing import LabelEncoder\n",
        "from sklearn.model_selection import train_test_split\n",
        "from sklearn.metrics import accuracy_score\n",
        "from PIL import Image"
      ],
      "execution_count": null,
      "outputs": []
    },
    {
      "cell_type": "code",
      "metadata": {
        "id": "LOR2URWlRKhT"
      },
      "source": [
        "# 데이터 불러오기\n",
        "#(mnist_train_data, mnist_train_label), (mnist_test_data, mnist_test_label) = load_data()\n",
        "#mnist_train_data.shape\n",
        "df_mnist_train = pd.read_csv('/content/drive/MyDrive/Colab Notebooks/file/mnist_train.csv')\n",
        "df_mnist_test = pd.read_csv('/content/drive/MyDrive/Colab Notebooks/file/mnist_test.csv')\n",
        "\n",
        "mnist_train_data = df_mnist_train.iloc[:,1:]/255\n",
        "mnist_train_label = df_mnist_train.iloc[:,0]\n",
        "\n",
        "mnist_test_data = df_mnist_test.iloc[:,1:]/255\n",
        "mnist_test_label = df_mnist_test.iloc[:,0]"
      ],
      "execution_count": null,
      "outputs": []
    },
    {
      "cell_type": "code",
      "metadata": {
        "colab": {
          "base_uri": "https://localhost:8080/",
          "height": 581
        },
        "id": "le-wwU8BRsG6",
        "outputId": "1aa5fcde-5cfc-491b-c266-2d3898a0397a"
      },
      "source": [
        "# 샘플 출력\n",
        "random_idx = np.random.randint(60000,size=6)\n",
        "random_idx\n",
        "plt.figure(figsize=(5, 5))\n",
        "for i, idx in enumerate(random_idx):\n",
        "  plt.subplot(3,3,i+1)\n",
        "  label = mnist_train_label[idx]\n",
        "  plt.imshow(mnist_train_data[idx,:])\n",
        "  plt.title('number: %d ' % label)\n",
        "  plt.axis('off')"
      ],
      "execution_count": null,
      "outputs": [
        {
          "ename": "TypeError",
          "evalue": "ignored",
          "output_type": "error",
          "traceback": [
            "\u001b[0;31m---------------------------------------------------------------------------\u001b[0m",
            "\u001b[0;31mTypeError\u001b[0m                                 Traceback (most recent call last)",
            "\u001b[0;32m<ipython-input-53-4319662be0f8>\u001b[0m in \u001b[0;36m<module>\u001b[0;34m()\u001b[0m\n\u001b[1;32m      6\u001b[0m   \u001b[0mplt\u001b[0m\u001b[0;34m.\u001b[0m\u001b[0msubplot\u001b[0m\u001b[0;34m(\u001b[0m\u001b[0;36m3\u001b[0m\u001b[0;34m,\u001b[0m\u001b[0;36m3\u001b[0m\u001b[0;34m,\u001b[0m\u001b[0mi\u001b[0m\u001b[0;34m+\u001b[0m\u001b[0;36m1\u001b[0m\u001b[0;34m)\u001b[0m\u001b[0;34m\u001b[0m\u001b[0;34m\u001b[0m\u001b[0m\n\u001b[1;32m      7\u001b[0m   \u001b[0mlabel\u001b[0m \u001b[0;34m=\u001b[0m \u001b[0mmnist_train_label\u001b[0m\u001b[0;34m[\u001b[0m\u001b[0midx\u001b[0m\u001b[0;34m]\u001b[0m\u001b[0;34m\u001b[0m\u001b[0;34m\u001b[0m\u001b[0m\n\u001b[0;32m----> 8\u001b[0;31m   \u001b[0mplt\u001b[0m\u001b[0;34m.\u001b[0m\u001b[0mimshow\u001b[0m\u001b[0;34m(\u001b[0m\u001b[0mmnist_train_data\u001b[0m\u001b[0;34m[\u001b[0m\u001b[0midx\u001b[0m\u001b[0;34m,\u001b[0m\u001b[0;34m:\u001b[0m\u001b[0;34m]\u001b[0m\u001b[0;34m)\u001b[0m\u001b[0;34m\u001b[0m\u001b[0;34m\u001b[0m\u001b[0m\n\u001b[0m\u001b[1;32m      9\u001b[0m   \u001b[0mplt\u001b[0m\u001b[0;34m.\u001b[0m\u001b[0mtitle\u001b[0m\u001b[0;34m(\u001b[0m\u001b[0;34m'number: %d '\u001b[0m \u001b[0;34m%\u001b[0m \u001b[0mlabel\u001b[0m\u001b[0;34m)\u001b[0m\u001b[0;34m\u001b[0m\u001b[0;34m\u001b[0m\u001b[0m\n\u001b[1;32m     10\u001b[0m   \u001b[0mplt\u001b[0m\u001b[0;34m.\u001b[0m\u001b[0maxis\u001b[0m\u001b[0;34m(\u001b[0m\u001b[0;34m'off'\u001b[0m\u001b[0;34m)\u001b[0m\u001b[0;34m\u001b[0m\u001b[0;34m\u001b[0m\u001b[0m\n",
            "\u001b[0;32m/usr/local/lib/python3.7/dist-packages/pandas/core/frame.py\u001b[0m in \u001b[0;36m__getitem__\u001b[0;34m(self, key)\u001b[0m\n\u001b[1;32m   2904\u001b[0m             \u001b[0;32mif\u001b[0m \u001b[0mself\u001b[0m\u001b[0;34m.\u001b[0m\u001b[0mcolumns\u001b[0m\u001b[0;34m.\u001b[0m\u001b[0mnlevels\u001b[0m \u001b[0;34m>\u001b[0m \u001b[0;36m1\u001b[0m\u001b[0;34m:\u001b[0m\u001b[0;34m\u001b[0m\u001b[0;34m\u001b[0m\u001b[0m\n\u001b[1;32m   2905\u001b[0m                 \u001b[0;32mreturn\u001b[0m \u001b[0mself\u001b[0m\u001b[0;34m.\u001b[0m\u001b[0m_getitem_multilevel\u001b[0m\u001b[0;34m(\u001b[0m\u001b[0mkey\u001b[0m\u001b[0;34m)\u001b[0m\u001b[0;34m\u001b[0m\u001b[0;34m\u001b[0m\u001b[0m\n\u001b[0;32m-> 2906\u001b[0;31m             \u001b[0mindexer\u001b[0m \u001b[0;34m=\u001b[0m \u001b[0mself\u001b[0m\u001b[0;34m.\u001b[0m\u001b[0mcolumns\u001b[0m\u001b[0;34m.\u001b[0m\u001b[0mget_loc\u001b[0m\u001b[0;34m(\u001b[0m\u001b[0mkey\u001b[0m\u001b[0;34m)\u001b[0m\u001b[0;34m\u001b[0m\u001b[0;34m\u001b[0m\u001b[0m\n\u001b[0m\u001b[1;32m   2907\u001b[0m             \u001b[0;32mif\u001b[0m \u001b[0mis_integer\u001b[0m\u001b[0;34m(\u001b[0m\u001b[0mindexer\u001b[0m\u001b[0;34m)\u001b[0m\u001b[0;34m:\u001b[0m\u001b[0;34m\u001b[0m\u001b[0;34m\u001b[0m\u001b[0m\n\u001b[1;32m   2908\u001b[0m                 \u001b[0mindexer\u001b[0m \u001b[0;34m=\u001b[0m \u001b[0;34m[\u001b[0m\u001b[0mindexer\u001b[0m\u001b[0;34m]\u001b[0m\u001b[0;34m\u001b[0m\u001b[0;34m\u001b[0m\u001b[0m\n",
            "\u001b[0;32m/usr/local/lib/python3.7/dist-packages/pandas/core/indexes/base.py\u001b[0m in \u001b[0;36mget_loc\u001b[0;34m(self, key, method, tolerance)\u001b[0m\n\u001b[1;32m   2896\u001b[0m             \u001b[0mcasted_key\u001b[0m \u001b[0;34m=\u001b[0m \u001b[0mself\u001b[0m\u001b[0;34m.\u001b[0m\u001b[0m_maybe_cast_indexer\u001b[0m\u001b[0;34m(\u001b[0m\u001b[0mkey\u001b[0m\u001b[0;34m)\u001b[0m\u001b[0;34m\u001b[0m\u001b[0;34m\u001b[0m\u001b[0m\n\u001b[1;32m   2897\u001b[0m             \u001b[0;32mtry\u001b[0m\u001b[0;34m:\u001b[0m\u001b[0;34m\u001b[0m\u001b[0;34m\u001b[0m\u001b[0m\n\u001b[0;32m-> 2898\u001b[0;31m                 \u001b[0;32mreturn\u001b[0m \u001b[0mself\u001b[0m\u001b[0;34m.\u001b[0m\u001b[0m_engine\u001b[0m\u001b[0;34m.\u001b[0m\u001b[0mget_loc\u001b[0m\u001b[0;34m(\u001b[0m\u001b[0mcasted_key\u001b[0m\u001b[0;34m)\u001b[0m\u001b[0;34m\u001b[0m\u001b[0;34m\u001b[0m\u001b[0m\n\u001b[0m\u001b[1;32m   2899\u001b[0m             \u001b[0;32mexcept\u001b[0m \u001b[0mKeyError\u001b[0m \u001b[0;32mas\u001b[0m \u001b[0merr\u001b[0m\u001b[0;34m:\u001b[0m\u001b[0;34m\u001b[0m\u001b[0;34m\u001b[0m\u001b[0m\n\u001b[1;32m   2900\u001b[0m                 \u001b[0;32mraise\u001b[0m \u001b[0mKeyError\u001b[0m\u001b[0;34m(\u001b[0m\u001b[0mkey\u001b[0m\u001b[0;34m)\u001b[0m \u001b[0;32mfrom\u001b[0m \u001b[0merr\u001b[0m\u001b[0;34m\u001b[0m\u001b[0;34m\u001b[0m\u001b[0m\n",
            "\u001b[0;32mpandas/_libs/index.pyx\u001b[0m in \u001b[0;36mpandas._libs.index.IndexEngine.get_loc\u001b[0;34m()\u001b[0m\n",
            "\u001b[0;32mpandas/_libs/index.pyx\u001b[0m in \u001b[0;36mpandas._libs.index.IndexEngine.get_loc\u001b[0;34m()\u001b[0m\n",
            "\u001b[0;31mTypeError\u001b[0m: '(14161, slice(None, None, None))' is an invalid key"
          ]
        },
        {
          "data": {
            "image/png": "[encoded data removed]",
            "text/plain": [
              "<Figure size 360x360 with 1 Axes>"
            ]
          },
          "metadata": {},
          "output_type": "display_data"
        }
      ]
    },
    {
      "cell_type": "code",
      "metadata": {
        "colab": {
          "base_uri": "https://localhost:8080/"
        },
        "id": "uA_-avXGR0tS",
        "outputId": "c2050bc5-106c-4f40-c34c-91d58a5e0f97"
      },
      "source": [
        "# 라벨 원-핫 코드 변환\n",
        "mnist_train_label = to_categorical(mnist_train_label)\n",
        "mnist_test_label = to_categorical(mnist_test_label)\n",
        "mnist_train_label[1]"
      ],
      "execution_count": null,
      "outputs": [
        {
          "data": {
            "text/plain": [
              "array([1., 0., 0., 0., 0., 0., 0., 0., 0., 0.], dtype=float32)"
            ]
          },
          "execution_count": 54,
          "metadata": {},
          "output_type": "execute_result"
        }
      ]
    },
    {
      "cell_type": "markdown",
      "metadata": {
        "id": "AqK0gHQep6bB"
      },
      "source": [
        ""
      ]
    },
    {
      "cell_type": "code",
      "metadata": {
        "colab": {
          "base_uri": "https://localhost:8080/"
        },
        "id": "VXowgr8vTx7Q",
        "outputId": "f307f663-3da4-43e3-f3b6-872ded0ead0a"
      },
      "source": [
        "# 모델 설계\n",
        "model = Sequential()\n",
        "model.add(Dense(units=784, input_dim=784, activation='sigmoid'))\n",
        "model.add(Dense(units=10, activation='sigmoid'))\n",
        "\n",
        "model.summary()"
      ],
      "execution_count": null,
      "outputs": [
        {
          "name": "stdout",
          "output_type": "stream",
          "text": [
            "Model: \"sequential_5\"\n",
            "_________________________________________________________________\n",
            "Layer (type)                 Output Shape              Param #   \n",
            "=================================================================\n",
            "dense_10 (Dense)             (None, 784)               615440    \n",
            "_________________________________________________________________\n",
            "dense_11 (Dense)             (None, 10)                7850      \n",
            "=================================================================\n",
            "Total params: 623,290\n",
            "Trainable params: 623,290\n",
            "Non-trainable params: 0\n",
            "_________________________________________________________________\n"
          ]
        }
      ]
    },
    {
      "cell_type": "code",
      "metadata": {
        "id": "fP-pMJ0_VcIY"
      },
      "source": [
        "# 모델 설정\n",
        "model.compile(loss='categorical_crossentropy',\n",
        "              optimizer='Adam',\n",
        "              metrics=['acc'])"
      ],
      "execution_count": null,
      "outputs": []
    },
    {
      "cell_type": "code",
      "metadata": {
        "colab": {
          "background_save": true,
          "base_uri": "https://localhost:8080/"
        },
        "id": "UXDNgduiWP_A",
        "outputId": "dbcae0a7-3ba3-4111-f89b-be68b10092c1"
      },
      "source": [
        "# 학습하기\n",
        "model.fit(mnist_train_data, mnist_train_label, epochs=100)"
      ],
      "execution_count": null,
      "outputs": [
        {
          "name": "stdout",
          "output_type": "stream",
          "text": [
            "Epoch 1/100\n",
            "1875/1875 [==============================] - 11s 6ms/step - loss: 0.3374 - acc: 0.9020\n",
            "Epoch 2/100\n",
            "1875/1875 [==============================] - 11s 6ms/step - loss: 0.1687 - acc: 0.9502\n",
            "Epoch 3/100\n",
            "1875/1875 [==============================] - 11s 6ms/step - loss: 0.1070 - acc: 0.9681\n",
            "Epoch 4/100\n",
            "1875/1875 [==============================] - 11s 6ms/step - loss: 0.0736 - acc: 0.9780\n",
            "Epoch 5/100\n",
            "1875/1875 [==============================] - 10s 6ms/step - loss: 0.0530 - acc: 0.9837\n",
            "Epoch 6/100\n",
            "1875/1875 [==============================] - 10s 6ms/step - loss: 0.0380 - acc: 0.9888\n",
            "Epoch 7/100\n",
            "1875/1875 [==============================] - 10s 6ms/step - loss: 0.0281 - acc: 0.9917\n",
            "Epoch 8/100\n",
            "1875/1875 [==============================] - 11s 6ms/step - loss: 0.0200 - acc: 0.9942\n",
            "Epoch 9/100\n",
            "1875/1875 [==============================] - 11s 6ms/step - loss: 0.0144 - acc: 0.9960\n",
            "Epoch 10/100\n",
            "1875/1875 [==============================] - 11s 6ms/step - loss: 0.0107 - acc: 0.9971\n",
            "Epoch 11/100\n",
            "1875/1875 [==============================] - 10s 6ms/step - loss: 0.0082 - acc: 0.9982\n",
            "Epoch 12/100\n",
            "1875/1875 [==============================] - 11s 6ms/step - loss: 0.0068 - acc: 0.9982\n",
            "Epoch 13/100\n",
            "1875/1875 [==============================] - 11s 6ms/step - loss: 0.0048 - acc: 0.9988\n",
            "Epoch 14/100\n",
            "1875/1875 [==============================] - 11s 6ms/step - loss: 0.0041 - acc: 0.9990\n",
            "Epoch 15/100\n",
            "1875/1875 [==============================] - 11s 6ms/step - loss: 0.0031 - acc: 0.9994\n",
            "Epoch 16/100\n",
            "1875/1875 [==============================] - 10s 6ms/step - loss: 0.0029 - acc: 0.9993\n",
            "Epoch 17/100\n",
            "1875/1875 [==============================] - 10s 5ms/step - loss: 0.0025 - acc: 0.9995\n",
            "Epoch 18/100\n",
            "1875/1875 [==============================] - 11s 6ms/step - loss: 0.0022 - acc: 0.9994\n",
            "Epoch 19/100\n",
            "1875/1875 [==============================] - 11s 6ms/step - loss: 0.0021 - acc: 0.9995\n",
            "Epoch 20/100\n",
            "1875/1875 [==============================] - 10s 6ms/step - loss: 0.0020 - acc: 0.9993\n",
            "Epoch 21/100\n",
            "1875/1875 [==============================] - 10s 5ms/step - loss: 0.0024 - acc: 0.9994\n",
            "Epoch 22/100\n",
            "1875/1875 [==============================] - 10s 6ms/step - loss: 0.0010 - acc: 0.9998\n",
            "Epoch 23/100\n",
            "1875/1875 [==============================] - 11s 6ms/step - loss: 0.0012 - acc: 0.9997\n",
            "Epoch 24/100\n",
            "1875/1875 [==============================] - 11s 6ms/step - loss: 0.0016 - acc: 0.9995\n",
            "Epoch 25/100\n",
            "1875/1875 [==============================] - 10s 5ms/step - loss: 0.0012 - acc: 0.9996\n",
            "Epoch 26/100\n",
            "1875/1875 [==============================] - 11s 6ms/step - loss: 0.0012 - acc: 0.9996\n",
            "Epoch 27/100\n",
            "1875/1875 [==============================] - 10s 6ms/step - loss: 3.5604e-04 - acc: 0.9999\n",
            "Epoch 28/100\n",
            "1875/1875 [==============================] - 10s 5ms/step - loss: 0.0025 - acc: 0.9992\n",
            "Epoch 29/100\n",
            "1875/1875 [==============================] - 10s 6ms/step - loss: 1.0242e-04 - acc: 1.0000\n",
            "Epoch 30/100\n",
            "1875/1875 [==============================] - 10s 6ms/step - loss: 9.9533e-05 - acc: 1.0000\n",
            "Epoch 31/100\n",
            "1875/1875 [==============================] - 11s 6ms/step - loss: 0.0026 - acc: 0.9992\n",
            "Epoch 32/100\n",
            "1875/1875 [==============================] - 10s 6ms/step - loss: 1.5052e-04 - acc: 1.0000\n",
            "Epoch 33/100\n",
            "1875/1875 [==============================] - 11s 6ms/step - loss: 0.0016 - acc: 0.9996\n",
            "Epoch 34/100\n",
            "1875/1875 [==============================] - 11s 6ms/step - loss: 6.4161e-05 - acc: 1.0000\n",
            "Epoch 35/100\n",
            "1875/1875 [==============================] - 11s 6ms/step - loss: 2.1882e-05 - acc: 1.0000\n",
            "Epoch 36/100\n",
            "1875/1875 [==============================] - 11s 6ms/step - loss: 0.0017 - acc: 0.9996\n",
            "Epoch 37/100\n",
            "1875/1875 [==============================] - 11s 6ms/step - loss: 3.5814e-04 - acc: 0.9999\n",
            "Epoch 38/100\n",
            "1875/1875 [==============================] - 10s 5ms/step - loss: 0.0011 - acc: 0.9997\n",
            "Epoch 39/100\n",
            "1875/1875 [==============================] - 10s 5ms/step - loss: 3.5029e-05 - acc: 1.0000\n",
            "Epoch 40/100\n",
            "1875/1875 [==============================] - 10s 6ms/step - loss: 1.3199e-05 - acc: 1.0000\n",
            "Epoch 41/100\n",
            "1875/1875 [==============================] - 10s 6ms/step - loss: 8.3994e-06 - acc: 1.0000\n",
            "Epoch 42/100\n",
            "1875/1875 [==============================] - 11s 6ms/step - loss: 0.0025 - acc: 0.9993\n",
            "Epoch 43/100\n",
            "1875/1875 [==============================] - 10s 6ms/step - loss: 6.1176e-04 - acc: 0.9998\n",
            "Epoch 44/100\n",
            "1875/1875 [==============================] - 10s 6ms/step - loss: 4.3464e-05 - acc: 1.0000\n",
            "Epoch 45/100\n",
            "1875/1875 [==============================] - 11s 6ms/step - loss: 1.3155e-05 - acc: 1.0000\n",
            "Epoch 46/100\n",
            "1875/1875 [==============================] - 11s 6ms/step - loss: 7.8671e-06 - acc: 1.0000\n",
            "Epoch 47/100\n",
            "1875/1875 [==============================] - 11s 6ms/step - loss: 5.1288e-06 - acc: 1.0000\n",
            "Epoch 48/100\n",
            "1875/1875 [==============================] - 11s 6ms/step - loss: 0.0023 - acc: 0.9993\n",
            "Epoch 49/100\n",
            "1875/1875 [==============================] - 11s 6ms/step - loss: 7.1346e-04 - acc: 0.9998\n",
            "Epoch 50/100\n",
            "1875/1875 [==============================] - 10s 6ms/step - loss: 4.2684e-05 - acc: 1.0000\n",
            "Epoch 51/100\n",
            "1875/1875 [==============================] - 10s 6ms/step - loss: 9.6443e-06 - acc: 1.0000\n",
            "Epoch 52/100\n",
            "1875/1875 [==============================] - 11s 6ms/step - loss: 5.8598e-06 - acc: 1.0000\n",
            "Epoch 53/100\n",
            "1875/1875 [==============================] - 11s 6ms/step - loss: 3.6386e-06 - acc: 1.0000\n",
            "Epoch 54/100\n",
            "1875/1875 [==============================] - 11s 6ms/step - loss: 4.6344e-04 - acc: 0.9999\n",
            "Epoch 55/100\n",
            "1875/1875 [==============================] - 11s 6ms/step - loss: 0.0015 - acc: 0.9995\n",
            "Epoch 56/100\n",
            "1875/1875 [==============================] - 11s 6ms/step - loss: 1.8605e-04 - acc: 0.9999\n",
            "Epoch 57/100\n",
            "1875/1875 [==============================] - 11s 6ms/step - loss: 0.0011 - acc: 0.9997\n",
            "Epoch 58/100\n",
            "1875/1875 [==============================] - 11s 6ms/step - loss: 5.5860e-04 - acc: 0.9998\n",
            "Epoch 59/100\n",
            "1875/1875 [==============================] - 10s 6ms/step - loss: 4.7011e-04 - acc: 0.9999\n",
            "Epoch 60/100\n",
            "1875/1875 [==============================] - 10s 5ms/step - loss: 0.0010 - acc: 0.9997\n",
            "Epoch 61/100\n",
            "1875/1875 [==============================] - 10s 5ms/step - loss: 1.4147e-05 - acc: 1.0000\n",
            "Epoch 62/100\n",
            "1875/1875 [==============================] - 10s 6ms/step - loss: 5.1872e-06 - acc: 1.0000\n",
            "Epoch 63/100\n",
            "1875/1875 [==============================] - 10s 6ms/step - loss: 2.6915e-06 - acc: 1.0000\n",
            "Epoch 64/100\n",
            "1875/1875 [==============================] - 10s 5ms/step - loss: 1.7267e-06 - acc: 1.0000\n",
            "Epoch 65/100\n",
            "1875/1875 [==============================] - 10s 5ms/step - loss: 1.0563e-06 - acc: 1.0000\n",
            "Epoch 66/100\n",
            "1875/1875 [==============================] - 10s 6ms/step - loss: 6.9204e-07 - acc: 1.0000\n",
            "Epoch 67/100\n",
            "1875/1875 [==============================] - 10s 5ms/step - loss: 4.2641e-07 - acc: 1.0000\n",
            "Epoch 68/100\n",
            "1875/1875 [==============================] - 10s 5ms/step - loss: 0.0023 - acc: 0.9992\n",
            "Epoch 69/100\n",
            "1875/1875 [==============================] - 10s 6ms/step - loss: 1.6746e-05 - acc: 1.0000\n",
            "Epoch 70/100\n",
            "1875/1875 [==============================] - 10s 5ms/step - loss: 5.6367e-06 - acc: 1.0000\n",
            "Epoch 71/100\n",
            "1875/1875 [==============================] - 10s 5ms/step - loss: 3.1528e-06 - acc: 1.0000\n",
            "Epoch 72/100\n",
            "1875/1875 [==============================] - 11s 6ms/step - loss: 1.8220e-06 - acc: 1.0000\n",
            "Epoch 73/100\n",
            "1875/1875 [==============================] - 10s 5ms/step - loss: 1.0907e-06 - acc: 1.0000\n",
            "Epoch 74/100\n",
            "1875/1875 [==============================] - 11s 6ms/step - loss: 6.4520e-07 - acc: 1.0000\n",
            "Epoch 75/100\n",
            "1875/1875 [==============================] - 10s 6ms/step - loss: 3.8876e-07 - acc: 1.0000\n",
            "Epoch 76/100\n",
            "1875/1875 [==============================] - 10s 5ms/step - loss: 2.5563e-07 - acc: 1.0000\n",
            "Epoch 77/100\n",
            "1875/1875 [==============================] - 10s 5ms/step - loss: 1.7595e-07 - acc: 1.0000\n",
            "Epoch 78/100\n",
            "1875/1875 [==============================] - 11s 6ms/step - loss: 1.2167e-07 - acc: 1.0000\n",
            "Epoch 79/100\n",
            "1875/1875 [==============================] - 11s 6ms/step - loss: 8.7885e-08 - acc: 1.0000\n",
            "Epoch 80/100\n",
            "1875/1875 [==============================] - 11s 6ms/step - loss: 6.8363e-08 - acc: 1.0000\n",
            "Epoch 81/100\n",
            "1875/1875 [==============================] - 11s 6ms/step - loss: 5.5059e-08 - acc: 1.0000\n",
            "Epoch 82/100\n",
            "1875/1875 [==============================] - 10s 5ms/step - loss: 4.6645e-08 - acc: 1.0000\n",
            "Epoch 83/100\n",
            "1875/1875 [==============================] - 10s 5ms/step - loss: 4.0231e-08 - acc: 1.0000\n",
            "Epoch 84/100\n",
            "1875/1875 [==============================] - 11s 6ms/step - loss: 3.5844e-08 - acc: 1.0000\n",
            "Epoch 85/100\n",
            "1875/1875 [==============================] - 11s 6ms/step - loss: 3.2175e-08 - acc: 1.0000\n",
            "Epoch 86/100\n",
            "1875/1875 [==============================] - 11s 6ms/step - loss: 2.8980e-08 - acc: 1.0000\n",
            "Epoch 87/100\n",
            "1875/1875 [==============================] - 11s 6ms/step - loss: 2.6598e-08 - acc: 1.0000\n",
            "Epoch 88/100\n",
            "1875/1875 [==============================] - 11s 6ms/step - loss: 2.4658e-08 - acc: 1.0000\n",
            "Epoch 89/100\n",
            "1875/1875 [==============================] - 10s 5ms/step - loss: 2.2886e-08 - acc: 1.0000\n",
            "Epoch 90/100\n",
            "1875/1875 [==============================] - 11s 6ms/step - loss: 2.1366e-08 - acc: 1.0000\n",
            "Epoch 91/100\n",
            "1875/1875 [==============================] - 10s 5ms/step - loss: 2.0075e-08 - acc: 1.0000\n",
            "Epoch 92/100\n",
            "1875/1875 [==============================] - 10s 5ms/step - loss: 1.8960e-08 - acc: 1.0000\n",
            "Epoch 93/100\n",
            "1875/1875 [==============================] - 10s 5ms/step - loss: 1.7913e-08 - acc: 1.0000\n",
            "Epoch 94/100\n",
            "1875/1875 [==============================] - 11s 6ms/step - loss: 1.7001e-08 - acc: 1.0000\n",
            "Epoch 95/100\n",
            "1875/1875 [==============================] - 10s 5ms/step - loss: 1.6095e-08 - acc: 1.0000\n",
            "Epoch 96/100\n",
            "1875/1875 [==============================] - 10s 6ms/step - loss: 1.5446e-08 - acc: 1.0000\n",
            "Epoch 97/100\n",
            "1875/1875 [==============================] - 10s 6ms/step - loss: 1.4667e-08 - acc: 1.0000\n",
            "Epoch 98/100\n",
            "1875/1875 [==============================] - 11s 6ms/step - loss: 1.4079e-08 - acc: 1.0000\n",
            "Epoch 99/100\n",
            "1875/1875 [==============================] - 10s 5ms/step - loss: 1.3471e-08 - acc: 1.0000\n",
            "Epoch 100/100\n",
            "1875/1875 [==============================] - 10s 5ms/step - loss: 1.3036e-08 - acc: 1.0000\n"
          ]
        },
        {
          "data": {
            "text/plain": [
              "<keras.callbacks.History at 0x7fbe8b41bc50>"
            ]
          },
          "execution_count": null,
          "metadata": {},
          "output_type": "execute_result"
        }
      ]
    },
    {
      "cell_type": "code",
      "metadata": {
        "colab": {
          "background_save": true
        },
        "id": "Oozq7Vu-WahB",
        "outputId": "f5d388dc-8bfd-4677-fcc5-df8887c4d523"
      },
      "source": [
        "# 평가하기 \n",
        "result = model.evaluate(mnist_test_data, mnist_test_label)\n",
        "result"
      ],
      "execution_count": null,
      "outputs": [
        {
          "name": "stdout",
          "output_type": "stream",
          "text": [
            "313/313 [==============================] - 1s 3ms/step - loss: 0.1206 - acc: 0.9846\n"
          ]
        },
        {
          "data": {
            "text/plain": [
              "[0.12055667489767075, 0.9846000075340271]"
            ]
          },
          "execution_count": null,
          "metadata": {},
          "output_type": "execute_result"
        }
      ]
    },
    {
      "cell_type": "code",
      "metadata": {
        "colab": {
          "base_uri": "https://localhost:8080/",
          "height": 226
        },
        "id": "pObkzJVcZZrd",
        "outputId": "e2308b73-48f3-4166-942b-a5fa2998039b"
      },
      "source": [
        "# 테스트하기\n",
        "# img1 =Image.open('/content/drive/MyDrive/Colab Notebooks/file/mnist_num1.jpg')\n",
        "# img2 =Image.open('/content/drive/MyDrive/Colab Notebooks/file/mnist_num2.jpg')\n",
        "# img3 =Image.open('/content/drive/MyDrive/Colab Notebooks/file/mnist_num3.jpg')\n",
        "# img4 =Image.open('/content/drive/MyDrive/Colab Notebooks/file/mnist_num4.jpg')\n",
        "# img5 =Image.open('/content/drive/MyDrive/Colab Notebooks/file/mnist_num5.jpg')\n",
        "\n",
        "# img1"
      ],
      "execution_count": null,
      "outputs": [
        {
          "ename": "NameError",
          "evalue": "ignored",
          "output_type": "error",
          "traceback": [
            "\u001b[0;31m---------------------------------------------------------------------------\u001b[0m",
            "\u001b[0;31mNameError\u001b[0m                                 Traceback (most recent call last)",
            "\u001b[0;32m<ipython-input-42-3d7887e9e550>\u001b[0m in \u001b[0;36m<module>\u001b[0;34m()\u001b[0m\n\u001b[1;32m      6\u001b[0m \u001b[0mimg5\u001b[0m \u001b[0;34m=\u001b[0m\u001b[0mImage\u001b[0m\u001b[0;34m.\u001b[0m\u001b[0mopen\u001b[0m\u001b[0;34m(\u001b[0m\u001b[0;34m'/content/drive/MyDrive/Colab Notebooks/file/mnist_num5.jpg'\u001b[0m\u001b[0;34m)\u001b[0m\u001b[0;34m\u001b[0m\u001b[0;34m\u001b[0m\u001b[0m\n\u001b[1;32m      7\u001b[0m \u001b[0;34m\u001b[0m\u001b[0m\n\u001b[0;32m----> 8\u001b[0;31m \u001b[0mimg_arr\u001b[0m \u001b[0;34m=\u001b[0m \u001b[0mnp\u001b[0m\u001b[0;34m.\u001b[0m\u001b[0marray\u001b[0m\u001b[0;34m(\u001b[0m\u001b[0;34m[\u001b[0m\u001b[0mimg_px\u001b[0m\u001b[0;34m,\u001b[0m \u001b[0mimg2_px\u001b[0m\u001b[0;34m,\u001b[0m \u001b[0mimg3_px\u001b[0m\u001b[0;34m,\u001b[0m \u001b[0mimg4_px\u001b[0m\u001b[0;34m,\u001b[0m \u001b[0mimg5_px\u001b[0m\u001b[0;34m]\u001b[0m\u001b[0;34m)\u001b[0m\u001b[0;34m\u001b[0m\u001b[0;34m\u001b[0m\u001b[0m\n\u001b[0m\u001b[1;32m      9\u001b[0m \u001b[0mimg_arr\u001b[0m \u001b[0;34m=\u001b[0m \u001b[0mimg_arr\u001b[0m \u001b[0;34m/\u001b[0m \u001b[0;36m255\u001b[0m\u001b[0;34m\u001b[0m\u001b[0;34m\u001b[0m\u001b[0m\n",
            "\u001b[0;31mNameError\u001b[0m: name 'img_px' is not defined"
          ]
        }
      ]
    },
    {
      "cell_type": "code",
      "metadata": {
        "colab": {
          "base_uri": "https://localhost:8080/",
          "height": 370
        },
        "id": "9yTq58Zhdi1f",
        "outputId": "8da0231e-e9af-4247-ff46-089724c487c6"
      },
      "source": [
        "# 이미지 픽셀 데이터 변환 \n",
        "img1_px = np.array(img1)\n",
        "img2_px = np.array(img2)\n",
        "img3_px = np.array(img3)\n",
        "img4_px = np.array(img4)\n",
        "img5_px = np.array(img5)\n",
        "\n",
        "img1_px_reshaped = np.reshpae(img1_px, (1, 784))\n",
        "img2_px_reshaped = np.reshpae(img2_px, (1, 784))\n",
        "img3_px_reshaped = np.reshpae(img3_px, (1, 784))\n",
        "img4_px_reshaped = np.reshpae(img4_px, (1, 784))\n",
        "img5_px_reshaped = np.reshpae(img5_px, (1, 784))\n",
        "\n",
        "img_arr = np.array([img1_px_reshaped,img2_px_reshaped,img3_px_reshaped,img4_px_reshaped,img5_px_reshaped])\n",
        "img_arr = img_arr / 255"
      ],
      "execution_count": null,
      "outputs": [
        {
          "ename": "AttributeError",
          "evalue": "ignored",
          "output_type": "error",
          "traceback": [
            "\u001b[0;31m---------------------------------------------------------------------------\u001b[0m",
            "\u001b[0;31mAttributeError\u001b[0m                            Traceback (most recent call last)",
            "\u001b[0;32m<ipython-input-50-3cc2110bc1f6>\u001b[0m in \u001b[0;36m<module>\u001b[0;34m()\u001b[0m\n\u001b[1;32m      6\u001b[0m \u001b[0mimg5_px\u001b[0m \u001b[0;34m=\u001b[0m \u001b[0mnp\u001b[0m\u001b[0;34m.\u001b[0m\u001b[0marray\u001b[0m\u001b[0;34m(\u001b[0m\u001b[0mimg5\u001b[0m\u001b[0;34m)\u001b[0m\u001b[0;34m\u001b[0m\u001b[0;34m\u001b[0m\u001b[0m\n\u001b[1;32m      7\u001b[0m \u001b[0;34m\u001b[0m\u001b[0m\n\u001b[0;32m----> 8\u001b[0;31m \u001b[0mimg1_px_reshaped\u001b[0m \u001b[0;34m=\u001b[0m \u001b[0mnp\u001b[0m\u001b[0;34m.\u001b[0m\u001b[0mreshpae\u001b[0m\u001b[0;34m(\u001b[0m\u001b[0mimg1_px\u001b[0m\u001b[0;34m,\u001b[0m \u001b[0;34m(\u001b[0m\u001b[0;36m1\u001b[0m\u001b[0;34m,\u001b[0m \u001b[0;36m784\u001b[0m\u001b[0;34m)\u001b[0m\u001b[0;34m)\u001b[0m\u001b[0;34m\u001b[0m\u001b[0;34m\u001b[0m\u001b[0m\n\u001b[0m\u001b[1;32m      9\u001b[0m \u001b[0mimg2_px_reshaped\u001b[0m \u001b[0;34m=\u001b[0m \u001b[0mnp\u001b[0m\u001b[0;34m.\u001b[0m\u001b[0mreshpae\u001b[0m\u001b[0;34m(\u001b[0m\u001b[0mimg2_px\u001b[0m\u001b[0;34m,\u001b[0m \u001b[0;34m(\u001b[0m\u001b[0;36m1\u001b[0m\u001b[0;34m,\u001b[0m \u001b[0;36m784\u001b[0m\u001b[0;34m)\u001b[0m\u001b[0;34m)\u001b[0m\u001b[0;34m\u001b[0m\u001b[0;34m\u001b[0m\u001b[0m\n\u001b[1;32m     10\u001b[0m \u001b[0mimg3_px_reshaped\u001b[0m \u001b[0;34m=\u001b[0m \u001b[0mnp\u001b[0m\u001b[0;34m.\u001b[0m\u001b[0mreshpae\u001b[0m\u001b[0;34m(\u001b[0m\u001b[0mimg3_px\u001b[0m\u001b[0;34m,\u001b[0m \u001b[0;34m(\u001b[0m\u001b[0;36m1\u001b[0m\u001b[0;34m,\u001b[0m \u001b[0;36m784\u001b[0m\u001b[0;34m)\u001b[0m\u001b[0;34m)\u001b[0m\u001b[0;34m\u001b[0m\u001b[0;34m\u001b[0m\u001b[0m\n",
            "\u001b[0;32m/usr/local/lib/python3.7/dist-packages/numpy/__init__.py\u001b[0m in \u001b[0;36m__getattr__\u001b[0;34m(attr)\u001b[0m\n\u001b[1;32m    213\u001b[0m             \u001b[0;32melse\u001b[0m\u001b[0;34m:\u001b[0m\u001b[0;34m\u001b[0m\u001b[0;34m\u001b[0m\u001b[0m\n\u001b[1;32m    214\u001b[0m                 raise AttributeError(\"module {!r} has no attribute \"\n\u001b[0;32m--> 215\u001b[0;31m                                      \"{!r}\".format(__name__, attr))\n\u001b[0m\u001b[1;32m    216\u001b[0m \u001b[0;34m\u001b[0m\u001b[0m\n\u001b[1;32m    217\u001b[0m         \u001b[0;32mdef\u001b[0m \u001b[0m__dir__\u001b[0m\u001b[0;34m(\u001b[0m\u001b[0;34m)\u001b[0m\u001b[0;34m:\u001b[0m\u001b[0;34m\u001b[0m\u001b[0;34m\u001b[0m\u001b[0m\n",
            "\u001b[0;31mAttributeError\u001b[0m: module 'numpy' has no attribute 'reshpae'"
          ]
        }
      ]
    },
    {
      "cell_type": "code",
      "metadata": {
        "colab": {
          "base_uri": "https://localhost:8080/",
          "height": 208
        },
        "id": "5NC-o0F2dxPF",
        "outputId": "4c01609f-e96c-49bc-8924-d7e8cf8a2f89"
      },
      "source": [
        "# 새로운 이미지 테스트하기\n",
        "#result = model.prideict(img1_px)\n",
        "result"
      ],
      "execution_count": null,
      "outputs": [
        {
          "ename": "AttributeError",
          "evalue": "ignored",
          "output_type": "error",
          "traceback": [
            "\u001b[0;31m---------------------------------------------------------------------------\u001b[0m",
            "\u001b[0;31mAttributeError\u001b[0m                            Traceback (most recent call last)",
            "\u001b[0;32m<ipython-input-41-c6964040d610>\u001b[0m in \u001b[0;36m<module>\u001b[0;34m()\u001b[0m\n\u001b[1;32m      1\u001b[0m \u001b[0;31m# 새로운 이미지 테스트하기\u001b[0m\u001b[0;34m\u001b[0m\u001b[0;34m\u001b[0m\u001b[0;34m\u001b[0m\u001b[0m\n\u001b[0;32m----> 2\u001b[0;31m \u001b[0mresult\u001b[0m \u001b[0;34m=\u001b[0m \u001b[0mmodel\u001b[0m\u001b[0;34m.\u001b[0m\u001b[0mprideict\u001b[0m\u001b[0;34m(\u001b[0m\u001b[0mimg1_px\u001b[0m\u001b[0;34m)\u001b[0m\u001b[0;34m\u001b[0m\u001b[0;34m\u001b[0m\u001b[0m\n\u001b[0m\u001b[1;32m      3\u001b[0m \u001b[0mresult\u001b[0m\u001b[0;34m\u001b[0m\u001b[0;34m\u001b[0m\u001b[0m\n",
            "\u001b[0;31mAttributeError\u001b[0m: 'Sequential' object has no attribute 'prideict'"
          ]
        }
      ]
    },
    {
      "cell_type": "code",
      "metadata": {
        "id": "UfvcAraQeQtV"
      },
      "source": [
        ""
      ],
      "execution_count": null,
      "outputs": []
    }
  ]
}